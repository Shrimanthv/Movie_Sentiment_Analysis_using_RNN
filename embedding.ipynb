{
 "cells": [
  {
   "cell_type": "code",
   "execution_count": 1,
   "metadata": {},
   "outputs": [],
   "source": [
    "import tensorflow\n",
    "from tensorflow.keras.preprocessing.text import one_hot"
   ]
  },
  {
   "cell_type": "code",
   "execution_count": 2,
   "metadata": {},
   "outputs": [],
   "source": [
    "### sentences\n",
    "sent=[  'the glass of milk',\n",
    "     'the glass of juice',\n",
    "     'the cup of tea',\n",
    "    'I am a good boy',\n",
    "     'I am a good developer',\n",
    "     'understand the meaning of words',\n",
    "     'your videos are good',]"
   ]
  },
  {
   "cell_type": "code",
   "execution_count": 3,
   "metadata": {},
   "outputs": [
    {
     "data": {
      "text/plain": [
       "['the glass of milk',\n",
       " 'the glass of juice',\n",
       " 'the cup of tea',\n",
       " 'I am a good boy',\n",
       " 'I am a good developer',\n",
       " 'understand the meaning of words',\n",
       " 'your videos are good']"
      ]
     },
     "execution_count": 3,
     "metadata": {},
     "output_type": "execute_result"
    }
   ],
   "source": [
    "sent"
   ]
  },
  {
   "cell_type": "code",
   "execution_count": 4,
   "metadata": {},
   "outputs": [],
   "source": [
    "## define the Vocabulary the size\n",
    "voc_size=10000"
   ]
  },
  {
   "cell_type": "code",
   "execution_count": 5,
   "metadata": {},
   "outputs": [
    {
     "data": {
      "text/plain": [
       "[[3356, 2917, 5715, 719],\n",
       " [3356, 2917, 5715, 5275],\n",
       " [3356, 2132, 5715, 7928],\n",
       " [7742, 4077, 4494, 5567, 2081],\n",
       " [7742, 4077, 4494, 5567, 1537],\n",
       " [8244, 3356, 3435, 5715, 551],\n",
       " [760, 7264, 1539, 5567]]"
      ]
     },
     "execution_count": 5,
     "metadata": {},
     "output_type": "execute_result"
    }
   ],
   "source": [
    "## One Hot Representation\n",
    "one_hot_representation=[one_hot(words,voc_size)for words in sent]\n",
    "one_hot_representation"
   ]
  },
  {
   "cell_type": "code",
   "execution_count": 6,
   "metadata": {},
   "outputs": [],
   "source": [
    "## Word Embedding Representation\n",
    "\n",
    "import tensorflow\n",
    "from tensorflow.keras.layers import Embedding\n",
    "# from tensorflow.keras.preprocessing.sequence import pad_sequences\n",
    "from tensorflow.keras.utils import pad_sequences\n",
    "from tensorflow.keras.models import Sequential"
   ]
  },
  {
   "cell_type": "code",
   "execution_count": 7,
   "metadata": {},
   "outputs": [
    {
     "name": "stdout",
     "output_type": "stream",
     "text": [
      "[[   0    0    0    0 3356 2917 5715  719]\n",
      " [   0    0    0    0 3356 2917 5715 5275]\n",
      " [   0    0    0    0 3356 2132 5715 7928]\n",
      " [   0    0    0 7742 4077 4494 5567 2081]\n",
      " [   0    0    0 7742 4077 4494 5567 1537]\n",
      " [   0    0    0 8244 3356 3435 5715  551]\n",
      " [   0    0    0    0  760 7264 1539 5567]]\n"
     ]
    }
   ],
   "source": [
    "import numpy as np\n",
    "sent_length=8\n",
    "embedded_docs=pad_sequences(one_hot_representation,padding='pre',maxlen=sent_length)\n",
    "print(embedded_docs)"
   ]
  },
  {
   "cell_type": "code",
   "execution_count": 8,
   "metadata": {},
   "outputs": [],
   "source": [
    "## Feature Representation\n",
    "dim=10"
   ]
  },
  {
   "cell_type": "code",
   "execution_count": 9,
   "metadata": {},
   "outputs": [
    {
     "name": "stderr",
     "output_type": "stream",
     "text": [
      "d:\\Movie_Review_sentiment_analysis_Project\\venv1\\Lib\\site-packages\\keras\\src\\layers\\core\\embedding.py:90: UserWarning: Argument `input_length` is deprecated. Just remove it.\n",
      "  warnings.warn(\n"
     ]
    }
   ],
   "source": [
    "model=Sequential()\n",
    "model.add(Embedding(voc_size,dim,input_length=sent_length))\n",
    "model.compile('adam','mse')"
   ]
  },
  {
   "cell_type": "code",
   "execution_count": 10,
   "metadata": {},
   "outputs": [
    {
     "data": {
      "text/html": [
       "<pre style=\"white-space:pre;overflow-x:auto;line-height:normal;font-family:Menlo,'DejaVu Sans Mono',consolas,'Courier New',monospace\"><span style=\"font-weight: bold\">Model: \"sequential\"</span>\n",
       "</pre>\n"
      ],
      "text/plain": [
       "\u001b[1mModel: \"sequential\"\u001b[0m\n"
      ]
     },
     "metadata": {},
     "output_type": "display_data"
    },
    {
     "data": {
      "text/html": [
       "<pre style=\"white-space:pre;overflow-x:auto;line-height:normal;font-family:Menlo,'DejaVu Sans Mono',consolas,'Courier New',monospace\">┏━━━━━━━━━━━━━━━━━━━━━━━━━━━━━━━━━┳━━━━━━━━━━━━━━━━━━━━━━━━┳━━━━━━━━━━━━━━━┓\n",
       "┃<span style=\"font-weight: bold\"> Layer (type)                    </span>┃<span style=\"font-weight: bold\"> Output Shape           </span>┃<span style=\"font-weight: bold\">       Param # </span>┃\n",
       "┡━━━━━━━━━━━━━━━━━━━━━━━━━━━━━━━━━╇━━━━━━━━━━━━━━━━━━━━━━━━╇━━━━━━━━━━━━━━━┩\n",
       "│ embedding (<span style=\"color: #0087ff; text-decoration-color: #0087ff\">Embedding</span>)           │ ?                      │   <span style=\"color: #00af00; text-decoration-color: #00af00\">0</span> (unbuilt) │\n",
       "└─────────────────────────────────┴────────────────────────┴───────────────┘\n",
       "</pre>\n"
      ],
      "text/plain": [
       "┏━━━━━━━━━━━━━━━━━━━━━━━━━━━━━━━━━┳━━━━━━━━━━━━━━━━━━━━━━━━┳━━━━━━━━━━━━━━━┓\n",
       "┃\u001b[1m \u001b[0m\u001b[1mLayer (type)                   \u001b[0m\u001b[1m \u001b[0m┃\u001b[1m \u001b[0m\u001b[1mOutput Shape          \u001b[0m\u001b[1m \u001b[0m┃\u001b[1m \u001b[0m\u001b[1m      Param #\u001b[0m\u001b[1m \u001b[0m┃\n",
       "┡━━━━━━━━━━━━━━━━━━━━━━━━━━━━━━━━━╇━━━━━━━━━━━━━━━━━━━━━━━━╇━━━━━━━━━━━━━━━┩\n",
       "│ embedding (\u001b[38;5;33mEmbedding\u001b[0m)           │ ?                      │   \u001b[38;5;34m0\u001b[0m (unbuilt) │\n",
       "└─────────────────────────────────┴────────────────────────┴───────────────┘\n"
      ]
     },
     "metadata": {},
     "output_type": "display_data"
    },
    {
     "data": {
      "text/html": [
       "<pre style=\"white-space:pre;overflow-x:auto;line-height:normal;font-family:Menlo,'DejaVu Sans Mono',consolas,'Courier New',monospace\"><span style=\"font-weight: bold\"> Total params: </span><span style=\"color: #00af00; text-decoration-color: #00af00\">0</span> (0.00 B)\n",
       "</pre>\n"
      ],
      "text/plain": [
       "\u001b[1m Total params: \u001b[0m\u001b[38;5;34m0\u001b[0m (0.00 B)\n"
      ]
     },
     "metadata": {},
     "output_type": "display_data"
    },
    {
     "data": {
      "text/html": [
       "<pre style=\"white-space:pre;overflow-x:auto;line-height:normal;font-family:Menlo,'DejaVu Sans Mono',consolas,'Courier New',monospace\"><span style=\"font-weight: bold\"> Trainable params: </span><span style=\"color: #00af00; text-decoration-color: #00af00\">0</span> (0.00 B)\n",
       "</pre>\n"
      ],
      "text/plain": [
       "\u001b[1m Trainable params: \u001b[0m\u001b[38;5;34m0\u001b[0m (0.00 B)\n"
      ]
     },
     "metadata": {},
     "output_type": "display_data"
    },
    {
     "data": {
      "text/html": [
       "<pre style=\"white-space:pre;overflow-x:auto;line-height:normal;font-family:Menlo,'DejaVu Sans Mono',consolas,'Courier New',monospace\"><span style=\"font-weight: bold\"> Non-trainable params: </span><span style=\"color: #00af00; text-decoration-color: #00af00\">0</span> (0.00 B)\n",
       "</pre>\n"
      ],
      "text/plain": [
       "\u001b[1m Non-trainable params: \u001b[0m\u001b[38;5;34m0\u001b[0m (0.00 B)\n"
      ]
     },
     "metadata": {},
     "output_type": "display_data"
    }
   ],
   "source": [
    "model.summary()"
   ]
  },
  {
   "cell_type": "code",
   "execution_count": 11,
   "metadata": {},
   "outputs": [
    {
     "name": "stdout",
     "output_type": "stream",
     "text": [
      "\u001b[1m1/1\u001b[0m \u001b[32m━━━━━━━━━━━━━━━━━━━━\u001b[0m\u001b[37m\u001b[0m \u001b[1m0s\u001b[0m 198ms/step\n"
     ]
    },
    {
     "data": {
      "text/plain": [
       "array([[[ 2.10178383e-02, -3.72326151e-02,  3.56108658e-02,\n",
       "          5.58537245e-03, -3.64996307e-02, -1.79908164e-02,\n",
       "          1.30536444e-02, -3.21693197e-02,  2.66169347e-02,\n",
       "          3.82671393e-02],\n",
       "        [ 2.10178383e-02, -3.72326151e-02,  3.56108658e-02,\n",
       "          5.58537245e-03, -3.64996307e-02, -1.79908164e-02,\n",
       "          1.30536444e-02, -3.21693197e-02,  2.66169347e-02,\n",
       "          3.82671393e-02],\n",
       "        [ 2.10178383e-02, -3.72326151e-02,  3.56108658e-02,\n",
       "          5.58537245e-03, -3.64996307e-02, -1.79908164e-02,\n",
       "          1.30536444e-02, -3.21693197e-02,  2.66169347e-02,\n",
       "          3.82671393e-02],\n",
       "        [ 2.10178383e-02, -3.72326151e-02,  3.56108658e-02,\n",
       "          5.58537245e-03, -3.64996307e-02, -1.79908164e-02,\n",
       "          1.30536444e-02, -3.21693197e-02,  2.66169347e-02,\n",
       "          3.82671393e-02],\n",
       "        [ 1.91893466e-02, -2.97654402e-02,  3.73915546e-02,\n",
       "          9.39751789e-03,  1.56998970e-02, -4.72020172e-02,\n",
       "          4.07327302e-02,  2.59750597e-02, -1.34922974e-02,\n",
       "          7.24571943e-03],\n",
       "        [ 4.71436977e-03, -1.74581185e-02, -4.50774543e-02,\n",
       "         -4.14252281e-03, -1.57390237e-02, -4.58765738e-02,\n",
       "         -1.98069941e-02, -1.66283138e-02,  4.49331440e-02,\n",
       "          4.70185541e-02],\n",
       "        [ 7.80694559e-03, -2.80915257e-02, -4.08379659e-02,\n",
       "          1.45309679e-02,  3.77513804e-02,  4.63442542e-02,\n",
       "          1.02693215e-02, -3.03532835e-02,  4.25727703e-02,\n",
       "         -3.88176367e-03],\n",
       "        [-4.96929400e-02,  4.26470973e-02,  5.37536293e-03,\n",
       "         -1.69045106e-02, -2.68457662e-02,  8.95889848e-03,\n",
       "         -4.36913632e-02,  3.56264152e-02, -3.69273797e-02,\n",
       "          3.50804664e-02]],\n",
       "\n",
       "       [[ 2.10178383e-02, -3.72326151e-02,  3.56108658e-02,\n",
       "          5.58537245e-03, -3.64996307e-02, -1.79908164e-02,\n",
       "          1.30536444e-02, -3.21693197e-02,  2.66169347e-02,\n",
       "          3.82671393e-02],\n",
       "        [ 2.10178383e-02, -3.72326151e-02,  3.56108658e-02,\n",
       "          5.58537245e-03, -3.64996307e-02, -1.79908164e-02,\n",
       "          1.30536444e-02, -3.21693197e-02,  2.66169347e-02,\n",
       "          3.82671393e-02],\n",
       "        [ 2.10178383e-02, -3.72326151e-02,  3.56108658e-02,\n",
       "          5.58537245e-03, -3.64996307e-02, -1.79908164e-02,\n",
       "          1.30536444e-02, -3.21693197e-02,  2.66169347e-02,\n",
       "          3.82671393e-02],\n",
       "        [ 2.10178383e-02, -3.72326151e-02,  3.56108658e-02,\n",
       "          5.58537245e-03, -3.64996307e-02, -1.79908164e-02,\n",
       "          1.30536444e-02, -3.21693197e-02,  2.66169347e-02,\n",
       "          3.82671393e-02],\n",
       "        [ 1.91893466e-02, -2.97654402e-02,  3.73915546e-02,\n",
       "          9.39751789e-03,  1.56998970e-02, -4.72020172e-02,\n",
       "          4.07327302e-02,  2.59750597e-02, -1.34922974e-02,\n",
       "          7.24571943e-03],\n",
       "        [ 4.71436977e-03, -1.74581185e-02, -4.50774543e-02,\n",
       "         -4.14252281e-03, -1.57390237e-02, -4.58765738e-02,\n",
       "         -1.98069941e-02, -1.66283138e-02,  4.49331440e-02,\n",
       "          4.70185541e-02],\n",
       "        [ 7.80694559e-03, -2.80915257e-02, -4.08379659e-02,\n",
       "          1.45309679e-02,  3.77513804e-02,  4.63442542e-02,\n",
       "          1.02693215e-02, -3.03532835e-02,  4.25727703e-02,\n",
       "         -3.88176367e-03],\n",
       "        [ 3.95711549e-02, -3.76524106e-02, -1.08284354e-02,\n",
       "          2.87322067e-02,  1.73564442e-02,  3.90688889e-02,\n",
       "         -2.68224366e-02, -3.98614034e-02, -3.80342491e-02,\n",
       "          1.97831653e-02]],\n",
       "\n",
       "       [[ 2.10178383e-02, -3.72326151e-02,  3.56108658e-02,\n",
       "          5.58537245e-03, -3.64996307e-02, -1.79908164e-02,\n",
       "          1.30536444e-02, -3.21693197e-02,  2.66169347e-02,\n",
       "          3.82671393e-02],\n",
       "        [ 2.10178383e-02, -3.72326151e-02,  3.56108658e-02,\n",
       "          5.58537245e-03, -3.64996307e-02, -1.79908164e-02,\n",
       "          1.30536444e-02, -3.21693197e-02,  2.66169347e-02,\n",
       "          3.82671393e-02],\n",
       "        [ 2.10178383e-02, -3.72326151e-02,  3.56108658e-02,\n",
       "          5.58537245e-03, -3.64996307e-02, -1.79908164e-02,\n",
       "          1.30536444e-02, -3.21693197e-02,  2.66169347e-02,\n",
       "          3.82671393e-02],\n",
       "        [ 2.10178383e-02, -3.72326151e-02,  3.56108658e-02,\n",
       "          5.58537245e-03, -3.64996307e-02, -1.79908164e-02,\n",
       "          1.30536444e-02, -3.21693197e-02,  2.66169347e-02,\n",
       "          3.82671393e-02],\n",
       "        [ 1.91893466e-02, -2.97654402e-02,  3.73915546e-02,\n",
       "          9.39751789e-03,  1.56998970e-02, -4.72020172e-02,\n",
       "          4.07327302e-02,  2.59750597e-02, -1.34922974e-02,\n",
       "          7.24571943e-03],\n",
       "        [-1.10953674e-02,  6.64079189e-03,  4.97787036e-02,\n",
       "         -3.56557593e-02,  1.34803914e-02,  4.44721095e-02,\n",
       "         -2.03753002e-02, -3.77253070e-02,  1.73512362e-02,\n",
       "          1.48640312e-02],\n",
       "        [ 7.80694559e-03, -2.80915257e-02, -4.08379659e-02,\n",
       "          1.45309679e-02,  3.77513804e-02,  4.63442542e-02,\n",
       "          1.02693215e-02, -3.03532835e-02,  4.25727703e-02,\n",
       "         -3.88176367e-03],\n",
       "        [ 3.73117588e-02, -4.65662852e-02, -2.19456311e-02,\n",
       "         -1.67769305e-02, -2.79722698e-02,  2.12330706e-02,\n",
       "         -3.22744623e-02,  4.74092849e-02,  4.00003679e-02,\n",
       "         -2.91449670e-02]],\n",
       "\n",
       "       [[ 2.10178383e-02, -3.72326151e-02,  3.56108658e-02,\n",
       "          5.58537245e-03, -3.64996307e-02, -1.79908164e-02,\n",
       "          1.30536444e-02, -3.21693197e-02,  2.66169347e-02,\n",
       "          3.82671393e-02],\n",
       "        [ 2.10178383e-02, -3.72326151e-02,  3.56108658e-02,\n",
       "          5.58537245e-03, -3.64996307e-02, -1.79908164e-02,\n",
       "          1.30536444e-02, -3.21693197e-02,  2.66169347e-02,\n",
       "          3.82671393e-02],\n",
       "        [ 2.10178383e-02, -3.72326151e-02,  3.56108658e-02,\n",
       "          5.58537245e-03, -3.64996307e-02, -1.79908164e-02,\n",
       "          1.30536444e-02, -3.21693197e-02,  2.66169347e-02,\n",
       "          3.82671393e-02],\n",
       "        [-2.58720517e-02,  4.95851152e-02, -4.89833020e-02,\n",
       "          5.35675138e-03,  1.82025507e-03, -1.94505695e-02,\n",
       "         -2.36037727e-02, -3.30863148e-02,  1.35036148e-02,\n",
       "         -3.08037922e-03],\n",
       "        [-9.78898257e-04,  2.36069299e-02, -2.07749847e-02,\n",
       "         -3.33992988e-02, -1.77542120e-03, -2.99301278e-02,\n",
       "         -2.27835663e-02,  3.13456692e-02,  2.64521278e-02,\n",
       "          1.45690776e-02],\n",
       "        [ 3.38165052e-02,  3.78218777e-02, -3.06049716e-02,\n",
       "         -2.05496084e-02,  2.74835899e-03,  1.18234754e-02,\n",
       "          4.08282988e-02, -2.33408697e-02, -4.02553901e-02,\n",
       "         -2.09519509e-02],\n",
       "        [ 2.45966762e-03, -3.71832773e-03,  3.97986434e-02,\n",
       "          1.65726058e-02, -3.20290551e-02,  7.16874748e-03,\n",
       "          4.10603397e-02, -4.71763499e-02, -4.82292771e-02,\n",
       "          4.82645743e-02],\n",
       "        [-8.78211111e-03,  5.04486635e-03, -4.28754203e-02,\n",
       "         -9.92065668e-03, -4.96867560e-02,  2.14569643e-03,\n",
       "         -3.02256588e-02, -4.65885401e-02, -9.33455303e-03,\n",
       "          1.08938813e-02]],\n",
       "\n",
       "       [[ 2.10178383e-02, -3.72326151e-02,  3.56108658e-02,\n",
       "          5.58537245e-03, -3.64996307e-02, -1.79908164e-02,\n",
       "          1.30536444e-02, -3.21693197e-02,  2.66169347e-02,\n",
       "          3.82671393e-02],\n",
       "        [ 2.10178383e-02, -3.72326151e-02,  3.56108658e-02,\n",
       "          5.58537245e-03, -3.64996307e-02, -1.79908164e-02,\n",
       "          1.30536444e-02, -3.21693197e-02,  2.66169347e-02,\n",
       "          3.82671393e-02],\n",
       "        [ 2.10178383e-02, -3.72326151e-02,  3.56108658e-02,\n",
       "          5.58537245e-03, -3.64996307e-02, -1.79908164e-02,\n",
       "          1.30536444e-02, -3.21693197e-02,  2.66169347e-02,\n",
       "          3.82671393e-02],\n",
       "        [-2.58720517e-02,  4.95851152e-02, -4.89833020e-02,\n",
       "          5.35675138e-03,  1.82025507e-03, -1.94505695e-02,\n",
       "         -2.36037727e-02, -3.30863148e-02,  1.35036148e-02,\n",
       "         -3.08037922e-03],\n",
       "        [-9.78898257e-04,  2.36069299e-02, -2.07749847e-02,\n",
       "         -3.33992988e-02, -1.77542120e-03, -2.99301278e-02,\n",
       "         -2.27835663e-02,  3.13456692e-02,  2.64521278e-02,\n",
       "          1.45690776e-02],\n",
       "        [ 3.38165052e-02,  3.78218777e-02, -3.06049716e-02,\n",
       "         -2.05496084e-02,  2.74835899e-03,  1.18234754e-02,\n",
       "          4.08282988e-02, -2.33408697e-02, -4.02553901e-02,\n",
       "         -2.09519509e-02],\n",
       "        [ 2.45966762e-03, -3.71832773e-03,  3.97986434e-02,\n",
       "          1.65726058e-02, -3.20290551e-02,  7.16874748e-03,\n",
       "          4.10603397e-02, -4.71763499e-02, -4.82292771e-02,\n",
       "          4.82645743e-02],\n",
       "        [ 8.12791660e-03,  1.10428222e-02,  1.20945685e-02,\n",
       "          1.78394057e-02,  1.07473135e-02, -9.24520567e-03,\n",
       "          1.50740407e-02, -4.14317250e-02,  3.94871272e-02,\n",
       "          7.15792179e-03]],\n",
       "\n",
       "       [[ 2.10178383e-02, -3.72326151e-02,  3.56108658e-02,\n",
       "          5.58537245e-03, -3.64996307e-02, -1.79908164e-02,\n",
       "          1.30536444e-02, -3.21693197e-02,  2.66169347e-02,\n",
       "          3.82671393e-02],\n",
       "        [ 2.10178383e-02, -3.72326151e-02,  3.56108658e-02,\n",
       "          5.58537245e-03, -3.64996307e-02, -1.79908164e-02,\n",
       "          1.30536444e-02, -3.21693197e-02,  2.66169347e-02,\n",
       "          3.82671393e-02],\n",
       "        [ 2.10178383e-02, -3.72326151e-02,  3.56108658e-02,\n",
       "          5.58537245e-03, -3.64996307e-02, -1.79908164e-02,\n",
       "          1.30536444e-02, -3.21693197e-02,  2.66169347e-02,\n",
       "          3.82671393e-02],\n",
       "        [-2.65196096e-02,  2.29223706e-02, -2.02572588e-02,\n",
       "          3.56101505e-02,  6.15753233e-04,  7.08699226e-03,\n",
       "          4.08990867e-02,  3.72010469e-03,  1.18581168e-02,\n",
       "          1.60851367e-02],\n",
       "        [ 1.91893466e-02, -2.97654402e-02,  3.73915546e-02,\n",
       "          9.39751789e-03,  1.56998970e-02, -4.72020172e-02,\n",
       "          4.07327302e-02,  2.59750597e-02, -1.34922974e-02,\n",
       "          7.24571943e-03],\n",
       "        [-3.99207957e-02, -4.42009568e-02, -1.72513500e-02,\n",
       "         -3.53988893e-02, -1.61353350e-02,  1.72154978e-03,\n",
       "         -2.49829050e-02,  2.77820863e-02, -4.02526371e-02,\n",
       "         -4.96335402e-02],\n",
       "        [ 7.80694559e-03, -2.80915257e-02, -4.08379659e-02,\n",
       "          1.45309679e-02,  3.77513804e-02,  4.63442542e-02,\n",
       "          1.02693215e-02, -3.03532835e-02,  4.25727703e-02,\n",
       "         -3.88176367e-03],\n",
       "        [ 3.63482945e-02,  4.33727764e-02, -2.35652924e-03,\n",
       "         -1.60094388e-02, -1.11357681e-02,  2.85750143e-02,\n",
       "          1.06539838e-02,  2.12244727e-02,  2.08275653e-02,\n",
       "         -3.10099963e-02]],\n",
       "\n",
       "       [[ 2.10178383e-02, -3.72326151e-02,  3.56108658e-02,\n",
       "          5.58537245e-03, -3.64996307e-02, -1.79908164e-02,\n",
       "          1.30536444e-02, -3.21693197e-02,  2.66169347e-02,\n",
       "          3.82671393e-02],\n",
       "        [ 2.10178383e-02, -3.72326151e-02,  3.56108658e-02,\n",
       "          5.58537245e-03, -3.64996307e-02, -1.79908164e-02,\n",
       "          1.30536444e-02, -3.21693197e-02,  2.66169347e-02,\n",
       "          3.82671393e-02],\n",
       "        [ 2.10178383e-02, -3.72326151e-02,  3.56108658e-02,\n",
       "          5.58537245e-03, -3.64996307e-02, -1.79908164e-02,\n",
       "          1.30536444e-02, -3.21693197e-02,  2.66169347e-02,\n",
       "          3.82671393e-02],\n",
       "        [ 2.10178383e-02, -3.72326151e-02,  3.56108658e-02,\n",
       "          5.58537245e-03, -3.64996307e-02, -1.79908164e-02,\n",
       "          1.30536444e-02, -3.21693197e-02,  2.66169347e-02,\n",
       "          3.82671393e-02],\n",
       "        [-9.28069279e-03,  4.72149886e-02,  4.68578823e-02,\n",
       "         -3.80352139e-06, -2.97001731e-02, -2.92012226e-02,\n",
       "         -3.07860859e-02,  2.63052024e-02,  4.49007265e-02,\n",
       "         -9.29783657e-03],\n",
       "        [-2.79601663e-03,  7.36328214e-03, -1.28834248e-02,\n",
       "         -2.27215048e-02, -1.93128344e-02,  1.26114823e-02,\n",
       "         -3.56557369e-02, -2.07462069e-02, -1.70124173e-02,\n",
       "          4.92981933e-02],\n",
       "        [-3.65199223e-02,  1.60660855e-02, -2.39694603e-02,\n",
       "          2.41626240e-02, -3.87698524e-02, -2.68971920e-02,\n",
       "         -4.03016433e-02,  2.67999284e-02, -2.49369387e-02,\n",
       "         -4.09929268e-02],\n",
       "        [ 2.45966762e-03, -3.71832773e-03,  3.97986434e-02,\n",
       "          1.65726058e-02, -3.20290551e-02,  7.16874748e-03,\n",
       "          4.10603397e-02, -4.71763499e-02, -4.82292771e-02,\n",
       "          4.82645743e-02]]], dtype=float32)"
      ]
     },
     "execution_count": 11,
     "metadata": {},
     "output_type": "execute_result"
    }
   ],
   "source": [
    "model.predict(embedded_docs)"
   ]
  },
  {
   "cell_type": "code",
   "execution_count": null,
   "metadata": {},
   "outputs": [],
   "source": []
  },
  {
   "cell_type": "code",
   "execution_count": null,
   "metadata": {},
   "outputs": [],
   "source": []
  },
  {
   "cell_type": "code",
   "execution_count": null,
   "metadata": {},
   "outputs": [],
   "source": []
  },
  {
   "cell_type": "code",
   "execution_count": null,
   "metadata": {},
   "outputs": [],
   "source": []
  },
  {
   "cell_type": "code",
   "execution_count": null,
   "metadata": {},
   "outputs": [],
   "source": []
  },
  {
   "cell_type": "code",
   "execution_count": null,
   "metadata": {},
   "outputs": [],
   "source": []
  },
  {
   "cell_type": "code",
   "execution_count": null,
   "metadata": {},
   "outputs": [],
   "source": []
  },
  {
   "cell_type": "code",
   "execution_count": null,
   "metadata": {},
   "outputs": [],
   "source": []
  },
  {
   "cell_type": "code",
   "execution_count": null,
   "metadata": {},
   "outputs": [],
   "source": []
  },
  {
   "cell_type": "code",
   "execution_count": null,
   "metadata": {},
   "outputs": [],
   "source": []
  },
  {
   "cell_type": "code",
   "execution_count": null,
   "metadata": {},
   "outputs": [],
   "source": []
  },
  {
   "cell_type": "code",
   "execution_count": null,
   "metadata": {},
   "outputs": [],
   "source": []
  },
  {
   "cell_type": "code",
   "execution_count": null,
   "metadata": {},
   "outputs": [],
   "source": []
  },
  {
   "cell_type": "code",
   "execution_count": null,
   "metadata": {},
   "outputs": [],
   "source": []
  },
  {
   "cell_type": "code",
   "execution_count": null,
   "metadata": {},
   "outputs": [],
   "source": []
  },
  {
   "cell_type": "code",
   "execution_count": null,
   "metadata": {},
   "outputs": [],
   "source": []
  },
  {
   "cell_type": "code",
   "execution_count": null,
   "metadata": {},
   "outputs": [],
   "source": []
  },
  {
   "cell_type": "code",
   "execution_count": null,
   "metadata": {},
   "outputs": [],
   "source": []
  },
  {
   "cell_type": "code",
   "execution_count": null,
   "metadata": {},
   "outputs": [],
   "source": []
  },
  {
   "cell_type": "code",
   "execution_count": null,
   "metadata": {},
   "outputs": [],
   "source": []
  },
  {
   "cell_type": "code",
   "execution_count": null,
   "metadata": {},
   "outputs": [],
   "source": []
  },
  {
   "cell_type": "code",
   "execution_count": null,
   "metadata": {},
   "outputs": [],
   "source": []
  },
  {
   "cell_type": "code",
   "execution_count": null,
   "metadata": {},
   "outputs": [],
   "source": []
  },
  {
   "cell_type": "code",
   "execution_count": null,
   "metadata": {},
   "outputs": [],
   "source": []
  },
  {
   "cell_type": "code",
   "execution_count": null,
   "metadata": {},
   "outputs": [],
   "source": []
  },
  {
   "cell_type": "code",
   "execution_count": null,
   "metadata": {},
   "outputs": [],
   "source": []
  },
  {
   "cell_type": "code",
   "execution_count": null,
   "metadata": {},
   "outputs": [],
   "source": []
  },
  {
   "cell_type": "code",
   "execution_count": null,
   "metadata": {},
   "outputs": [],
   "source": []
  },
  {
   "cell_type": "code",
   "execution_count": null,
   "metadata": {},
   "outputs": [],
   "source": []
  },
  {
   "cell_type": "code",
   "execution_count": null,
   "metadata": {},
   "outputs": [],
   "source": []
  },
  {
   "cell_type": "code",
   "execution_count": null,
   "metadata": {},
   "outputs": [],
   "source": []
  },
  {
   "cell_type": "code",
   "execution_count": null,
   "metadata": {},
   "outputs": [],
   "source": []
  },
  {
   "cell_type": "code",
   "execution_count": null,
   "metadata": {},
   "outputs": [],
   "source": []
  },
  {
   "cell_type": "code",
   "execution_count": null,
   "metadata": {},
   "outputs": [],
   "source": []
  },
  {
   "cell_type": "code",
   "execution_count": null,
   "metadata": {},
   "outputs": [],
   "source": []
  },
  {
   "cell_type": "code",
   "execution_count": null,
   "metadata": {},
   "outputs": [],
   "source": []
  },
  {
   "cell_type": "code",
   "execution_count": null,
   "metadata": {},
   "outputs": [],
   "source": []
  },
  {
   "cell_type": "code",
   "execution_count": null,
   "metadata": {},
   "outputs": [],
   "source": []
  },
  {
   "cell_type": "code",
   "execution_count": null,
   "metadata": {},
   "outputs": [],
   "source": []
  },
  {
   "cell_type": "code",
   "execution_count": null,
   "metadata": {},
   "outputs": [],
   "source": []
  },
  {
   "cell_type": "code",
   "execution_count": null,
   "metadata": {},
   "outputs": [],
   "source": []
  },
  {
   "cell_type": "code",
   "execution_count": null,
   "metadata": {},
   "outputs": [],
   "source": []
  },
  {
   "cell_type": "code",
   "execution_count": null,
   "metadata": {},
   "outputs": [],
   "source": []
  },
  {
   "cell_type": "code",
   "execution_count": null,
   "metadata": {},
   "outputs": [],
   "source": []
  },
  {
   "cell_type": "code",
   "execution_count": null,
   "metadata": {},
   "outputs": [],
   "source": []
  },
  {
   "cell_type": "code",
   "execution_count": null,
   "metadata": {},
   "outputs": [],
   "source": []
  },
  {
   "cell_type": "code",
   "execution_count": null,
   "metadata": {},
   "outputs": [],
   "source": []
  },
  {
   "cell_type": "code",
   "execution_count": null,
   "metadata": {},
   "outputs": [],
   "source": []
  },
  {
   "cell_type": "code",
   "execution_count": null,
   "metadata": {},
   "outputs": [],
   "source": []
  },
  {
   "cell_type": "code",
   "execution_count": null,
   "metadata": {},
   "outputs": [],
   "source": []
  },
  {
   "cell_type": "code",
   "execution_count": null,
   "metadata": {},
   "outputs": [],
   "source": []
  },
  {
   "cell_type": "code",
   "execution_count": null,
   "metadata": {},
   "outputs": [],
   "source": []
  },
  {
   "cell_type": "code",
   "execution_count": null,
   "metadata": {},
   "outputs": [],
   "source": []
  },
  {
   "cell_type": "code",
   "execution_count": null,
   "metadata": {},
   "outputs": [],
   "source": []
  },
  {
   "cell_type": "code",
   "execution_count": null,
   "metadata": {},
   "outputs": [],
   "source": []
  },
  {
   "cell_type": "code",
   "execution_count": null,
   "metadata": {},
   "outputs": [],
   "source": []
  },
  {
   "cell_type": "code",
   "execution_count": null,
   "metadata": {},
   "outputs": [],
   "source": []
  },
  {
   "cell_type": "code",
   "execution_count": null,
   "metadata": {},
   "outputs": [],
   "source": []
  },
  {
   "cell_type": "code",
   "execution_count": null,
   "metadata": {},
   "outputs": [],
   "source": []
  },
  {
   "cell_type": "code",
   "execution_count": null,
   "metadata": {},
   "outputs": [],
   "source": []
  },
  {
   "cell_type": "code",
   "execution_count": null,
   "metadata": {},
   "outputs": [],
   "source": []
  },
  {
   "cell_type": "code",
   "execution_count": null,
   "metadata": {},
   "outputs": [],
   "source": []
  },
  {
   "cell_type": "code",
   "execution_count": null,
   "metadata": {},
   "outputs": [],
   "source": []
  },
  {
   "cell_type": "code",
   "execution_count": null,
   "metadata": {},
   "outputs": [],
   "source": []
  },
  {
   "cell_type": "code",
   "execution_count": null,
   "metadata": {},
   "outputs": [],
   "source": []
  },
  {
   "cell_type": "code",
   "execution_count": null,
   "metadata": {},
   "outputs": [],
   "source": []
  },
  {
   "cell_type": "code",
   "execution_count": null,
   "metadata": {},
   "outputs": [],
   "source": []
  },
  {
   "cell_type": "code",
   "execution_count": null,
   "metadata": {},
   "outputs": [],
   "source": []
  }
 ],
 "metadata": {
  "kernelspec": {
   "display_name": "Python 3",
   "language": "python",
   "name": "python3"
  },
  "language_info": {
   "codemirror_mode": {
    "name": "ipython",
    "version": 3
   },
   "file_extension": ".py",
   "mimetype": "text/x-python",
   "name": "python",
   "nbconvert_exporter": "python",
   "pygments_lexer": "ipython3",
   "version": "3.11.0"
  }
 },
 "nbformat": 4,
 "nbformat_minor": 2
}
