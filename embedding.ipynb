{
 "cells": [
  {
   "cell_type": "code",
   "execution_count": 14,
   "metadata": {},
   "outputs": [],
   "source": [
    "import tensorflow\n",
    "from tensorflow.keras.preprocessing.text import one_hot"
   ]
  },
  {
   "cell_type": "code",
   "execution_count": 15,
   "metadata": {},
   "outputs": [],
   "source": [
    "### sentences\n",
    "sent=[  'the glass of milk',\n",
    "     'the glass of juice',\n",
    "     'the cup of tea',\n",
    "    'I am a good boy',\n",
    "     'I am a good developer',\n",
    "     'understand the meaning of words',\n",
    "     'your videos are good',]"
   ]
  },
  {
   "cell_type": "code",
   "execution_count": 16,
   "metadata": {},
   "outputs": [
    {
     "data": {
      "text/plain": [
       "['the glass of milk',\n",
       " 'the glass of juice',\n",
       " 'the cup of tea',\n",
       " 'I am a good boy',\n",
       " 'I am a good developer',\n",
       " 'understand the meaning of words',\n",
       " 'your videos are good']"
      ]
     },
     "execution_count": 16,
     "metadata": {},
     "output_type": "execute_result"
    }
   ],
   "source": [
    "sent"
   ]
  },
  {
   "cell_type": "code",
   "execution_count": 17,
   "metadata": {},
   "outputs": [],
   "source": [
    "## define the Vocabulary the size\n",
    "voc_size=10000"
   ]
  },
  {
   "cell_type": "code",
   "execution_count": 20,
   "metadata": {},
   "outputs": [
    {
     "data": {
      "text/plain": [
       "[[2547, 7571, 5648, 8132],\n",
       " [2547, 7571, 5648, 7329],\n",
       " [2547, 2825, 5648, 8576],\n",
       " [4234, 2715, 757, 5428, 2208],\n",
       " [4234, 2715, 757, 5428, 3514],\n",
       " [9278, 2547, 2241, 5648, 8456],\n",
       " [3912, 4906, 4092, 5428]]"
      ]
     },
     "execution_count": 20,
     "metadata": {},
     "output_type": "execute_result"
    }
   ],
   "source": [
    "## One Hot Representation\n",
    "one_hot_representation=[one_hot(words,voc_size)for words in sent]\n",
    "one_hot_representation"
   ]
  },
  {
   "cell_type": "code",
   "execution_count": 23,
   "metadata": {},
   "outputs": [],
   "source": [
    "## Word Embedding Representation\n",
    "\n",
    "import tensorflow\n",
    "from tensorflow.keras.layers import Embedding\n",
    "# from tensorflow.keras.preprocessing.sequence import pad_sequences\n",
    "from tensorflow.keras.utils import pad_sequences\n",
    "from tensorflow.keras.models import Sequential"
   ]
  },
  {
   "cell_type": "code",
   "execution_count": 24,
   "metadata": {},
   "outputs": [
    {
     "name": "stdout",
     "output_type": "stream",
     "text": [
      "[[   0    0    0    0 2547 7571 5648 8132]\n",
      " [   0    0    0    0 2547 7571 5648 7329]\n",
      " [   0    0    0    0 2547 2825 5648 8576]\n",
      " [   0    0    0 4234 2715  757 5428 2208]\n",
      " [   0    0    0 4234 2715  757 5428 3514]\n",
      " [   0    0    0 9278 2547 2241 5648 8456]\n",
      " [   0    0    0    0 3912 4906 4092 5428]]\n"
     ]
    }
   ],
   "source": [
    "import numpy as np\n",
    "sent_length=8\n",
    "embedded_docs=pad_sequences(one_hot_representation,padding='pre',maxlen=sent_length)\n",
    "print(embedded_docs)"
   ]
  },
  {
   "cell_type": "code",
   "execution_count": 25,
   "metadata": {},
   "outputs": [],
   "source": [
    "## Feature Representation\n",
    "dim=10"
   ]
  },
  {
   "cell_type": "code",
   "execution_count": 26,
   "metadata": {},
   "outputs": [
    {
     "name": "stdout",
     "output_type": "stream",
     "text": [
      "WARNING:tensorflow:From d:\\Deep_Learning_Project\\venv\\Lib\\site-packages\\keras\\src\\backend.py:873: The name tf.get_default_graph is deprecated. Please use tf.compat.v1.get_default_graph instead.\n",
      "\n",
      "WARNING:tensorflow:From d:\\Deep_Learning_Project\\venv\\Lib\\site-packages\\keras\\src\\optimizers\\__init__.py:309: The name tf.train.Optimizer is deprecated. Please use tf.compat.v1.train.Optimizer instead.\n",
      "\n"
     ]
    }
   ],
   "source": [
    "model=Sequential()\n",
    "model.add(Embedding(voc_size,dim,input_length=sent_length))\n",
    "model.compile('adam','mse')"
   ]
  },
  {
   "cell_type": "code",
   "execution_count": 27,
   "metadata": {},
   "outputs": [
    {
     "name": "stdout",
     "output_type": "stream",
     "text": [
      "Model: \"sequential\"\n",
      "_________________________________________________________________\n",
      " Layer (type)                Output Shape              Param #   \n",
      "=================================================================\n",
      " embedding (Embedding)       (None, 8, 10)             100000    \n",
      "                                                                 \n",
      "=================================================================\n",
      "Total params: 100000 (390.62 KB)\n",
      "Trainable params: 100000 (390.62 KB)\n",
      "Non-trainable params: 0 (0.00 Byte)\n",
      "_________________________________________________________________\n"
     ]
    }
   ],
   "source": [
    "model.summary()"
   ]
  },
  {
   "cell_type": "code",
   "execution_count": 28,
   "metadata": {},
   "outputs": [
    {
     "name": "stdout",
     "output_type": "stream",
     "text": [
      "1/1 [==============================] - 0s 154ms/step\n"
     ]
    },
    {
     "data": {
      "text/plain": [
       "array([[[ 0.02587384,  0.02116295,  0.01088617, -0.03592562,\n",
       "         -0.04042912, -0.04580135,  0.03650352, -0.04325303,\n",
       "         -0.00167348,  0.03055171],\n",
       "        [ 0.02587384,  0.02116295,  0.01088617, -0.03592562,\n",
       "         -0.04042912, -0.04580135,  0.03650352, -0.04325303,\n",
       "         -0.00167348,  0.03055171],\n",
       "        [ 0.02587384,  0.02116295,  0.01088617, -0.03592562,\n",
       "         -0.04042912, -0.04580135,  0.03650352, -0.04325303,\n",
       "         -0.00167348,  0.03055171],\n",
       "        [ 0.02587384,  0.02116295,  0.01088617, -0.03592562,\n",
       "         -0.04042912, -0.04580135,  0.03650352, -0.04325303,\n",
       "         -0.00167348,  0.03055171],\n",
       "        [-0.00954735, -0.04742479, -0.01982504, -0.01921876,\n",
       "          0.02144418, -0.02219873, -0.04645871, -0.04861375,\n",
       "         -0.04916892, -0.03659917],\n",
       "        [ 0.02640999, -0.04857944,  0.04570656, -0.03586842,\n",
       "         -0.03588607,  0.01649096, -0.00193025, -0.02198167,\n",
       "         -0.02962157,  0.01996535],\n",
       "        [ 0.03158773,  0.04036883, -0.03880373,  0.03595343,\n",
       "          0.02330009,  0.03374124, -0.03428835, -0.00737494,\n",
       "         -0.03928646,  0.02636406],\n",
       "        [-0.01246997, -0.0028476 ,  0.03274072, -0.00687869,\n",
       "          0.0473645 , -0.021826  , -0.0472499 , -0.0415128 ,\n",
       "          0.00266606, -0.04130652]],\n",
       "\n",
       "       [[ 0.02587384,  0.02116295,  0.01088617, -0.03592562,\n",
       "         -0.04042912, -0.04580135,  0.03650352, -0.04325303,\n",
       "         -0.00167348,  0.03055171],\n",
       "        [ 0.02587384,  0.02116295,  0.01088617, -0.03592562,\n",
       "         -0.04042912, -0.04580135,  0.03650352, -0.04325303,\n",
       "         -0.00167348,  0.03055171],\n",
       "        [ 0.02587384,  0.02116295,  0.01088617, -0.03592562,\n",
       "         -0.04042912, -0.04580135,  0.03650352, -0.04325303,\n",
       "         -0.00167348,  0.03055171],\n",
       "        [ 0.02587384,  0.02116295,  0.01088617, -0.03592562,\n",
       "         -0.04042912, -0.04580135,  0.03650352, -0.04325303,\n",
       "         -0.00167348,  0.03055171],\n",
       "        [-0.00954735, -0.04742479, -0.01982504, -0.01921876,\n",
       "          0.02144418, -0.02219873, -0.04645871, -0.04861375,\n",
       "         -0.04916892, -0.03659917],\n",
       "        [ 0.02640999, -0.04857944,  0.04570656, -0.03586842,\n",
       "         -0.03588607,  0.01649096, -0.00193025, -0.02198167,\n",
       "         -0.02962157,  0.01996535],\n",
       "        [ 0.03158773,  0.04036883, -0.03880373,  0.03595343,\n",
       "          0.02330009,  0.03374124, -0.03428835, -0.00737494,\n",
       "         -0.03928646,  0.02636406],\n",
       "        [-0.00033412,  0.02963683,  0.01727902,  0.04415568,\n",
       "         -0.02586901, -0.0047595 , -0.04552715, -0.03057361,\n",
       "         -0.01101904, -0.04830877]],\n",
       "\n",
       "       [[ 0.02587384,  0.02116295,  0.01088617, -0.03592562,\n",
       "         -0.04042912, -0.04580135,  0.03650352, -0.04325303,\n",
       "         -0.00167348,  0.03055171],\n",
       "        [ 0.02587384,  0.02116295,  0.01088617, -0.03592562,\n",
       "         -0.04042912, -0.04580135,  0.03650352, -0.04325303,\n",
       "         -0.00167348,  0.03055171],\n",
       "        [ 0.02587384,  0.02116295,  0.01088617, -0.03592562,\n",
       "         -0.04042912, -0.04580135,  0.03650352, -0.04325303,\n",
       "         -0.00167348,  0.03055171],\n",
       "        [ 0.02587384,  0.02116295,  0.01088617, -0.03592562,\n",
       "         -0.04042912, -0.04580135,  0.03650352, -0.04325303,\n",
       "         -0.00167348,  0.03055171],\n",
       "        [-0.00954735, -0.04742479, -0.01982504, -0.01921876,\n",
       "          0.02144418, -0.02219873, -0.04645871, -0.04861375,\n",
       "         -0.04916892, -0.03659917],\n",
       "        [-0.03152295, -0.02547878, -0.00080634, -0.03988359,\n",
       "         -0.01442522, -0.00257761, -0.04964706,  0.01198898,\n",
       "         -0.01523894, -0.00870862],\n",
       "        [ 0.03158773,  0.04036883, -0.03880373,  0.03595343,\n",
       "          0.02330009,  0.03374124, -0.03428835, -0.00737494,\n",
       "         -0.03928646,  0.02636406],\n",
       "        [ 0.02519808,  0.01086343,  0.02142972, -0.00206311,\n",
       "         -0.02426317,  0.04530953, -0.04899824,  0.04775235,\n",
       "          0.04735679, -0.03417195]],\n",
       "\n",
       "       [[ 0.02587384,  0.02116295,  0.01088617, -0.03592562,\n",
       "         -0.04042912, -0.04580135,  0.03650352, -0.04325303,\n",
       "         -0.00167348,  0.03055171],\n",
       "        [ 0.02587384,  0.02116295,  0.01088617, -0.03592562,\n",
       "         -0.04042912, -0.04580135,  0.03650352, -0.04325303,\n",
       "         -0.00167348,  0.03055171],\n",
       "        [ 0.02587384,  0.02116295,  0.01088617, -0.03592562,\n",
       "         -0.04042912, -0.04580135,  0.03650352, -0.04325303,\n",
       "         -0.00167348,  0.03055171],\n",
       "        [-0.04896628, -0.03216716,  0.01906209,  0.00154494,\n",
       "         -0.02574753, -0.02230362,  0.02137034,  0.03106543,\n",
       "         -0.03839383,  0.04234136],\n",
       "        [ 0.02684372,  0.00980166, -0.0485665 ,  0.0448009 ,\n",
       "          0.03817601,  0.04243983, -0.04045974, -0.02782074,\n",
       "          0.03507178, -0.02925484],\n",
       "        [-0.01966434,  0.0038318 ,  0.00550041, -0.01585783,\n",
       "         -0.01429781, -0.04374135, -0.00059273, -0.04999503,\n",
       "          0.00351852,  0.00872481],\n",
       "        [-0.01480814,  0.01758109,  0.04029259, -0.01644226,\n",
       "          0.02230424, -0.00349091,  0.02349803,  0.02687972,\n",
       "          0.02422782,  0.02321294],\n",
       "        [ 0.00464254, -0.04780021,  0.01475011, -0.01999052,\n",
       "         -0.03267549,  0.04240647,  0.04159116,  0.00068263,\n",
       "         -0.03146609,  0.02203966]],\n",
       "\n",
       "       [[ 0.02587384,  0.02116295,  0.01088617, -0.03592562,\n",
       "         -0.04042912, -0.04580135,  0.03650352, -0.04325303,\n",
       "         -0.00167348,  0.03055171],\n",
       "        [ 0.02587384,  0.02116295,  0.01088617, -0.03592562,\n",
       "         -0.04042912, -0.04580135,  0.03650352, -0.04325303,\n",
       "         -0.00167348,  0.03055171],\n",
       "        [ 0.02587384,  0.02116295,  0.01088617, -0.03592562,\n",
       "         -0.04042912, -0.04580135,  0.03650352, -0.04325303,\n",
       "         -0.00167348,  0.03055171],\n",
       "        [-0.04896628, -0.03216716,  0.01906209,  0.00154494,\n",
       "         -0.02574753, -0.02230362,  0.02137034,  0.03106543,\n",
       "         -0.03839383,  0.04234136],\n",
       "        [ 0.02684372,  0.00980166, -0.0485665 ,  0.0448009 ,\n",
       "          0.03817601,  0.04243983, -0.04045974, -0.02782074,\n",
       "          0.03507178, -0.02925484],\n",
       "        [-0.01966434,  0.0038318 ,  0.00550041, -0.01585783,\n",
       "         -0.01429781, -0.04374135, -0.00059273, -0.04999503,\n",
       "          0.00351852,  0.00872481],\n",
       "        [-0.01480814,  0.01758109,  0.04029259, -0.01644226,\n",
       "          0.02230424, -0.00349091,  0.02349803,  0.02687972,\n",
       "          0.02422782,  0.02321294],\n",
       "        [-0.03417847, -0.03565317,  0.00645654, -0.02911923,\n",
       "         -0.00974602,  0.01542692, -0.0283234 ,  0.00445741,\n",
       "         -0.02426597,  0.01699846]],\n",
       "\n",
       "       [[ 0.02587384,  0.02116295,  0.01088617, -0.03592562,\n",
       "         -0.04042912, -0.04580135,  0.03650352, -0.04325303,\n",
       "         -0.00167348,  0.03055171],\n",
       "        [ 0.02587384,  0.02116295,  0.01088617, -0.03592562,\n",
       "         -0.04042912, -0.04580135,  0.03650352, -0.04325303,\n",
       "         -0.00167348,  0.03055171],\n",
       "        [ 0.02587384,  0.02116295,  0.01088617, -0.03592562,\n",
       "         -0.04042912, -0.04580135,  0.03650352, -0.04325303,\n",
       "         -0.00167348,  0.03055171],\n",
       "        [-0.00910487,  0.04380174, -0.00900673, -0.01468626,\n",
       "         -0.04383403,  0.00317772, -0.01618581,  0.01362855,\n",
       "         -0.03590658,  0.01582051],\n",
       "        [-0.00954735, -0.04742479, -0.01982504, -0.01921876,\n",
       "          0.02144418, -0.02219873, -0.04645871, -0.04861375,\n",
       "         -0.04916892, -0.03659917],\n",
       "        [-0.03867397, -0.01716049, -0.03523283, -0.04910621,\n",
       "          0.01491816, -0.01525037,  0.01220562,  0.00682478,\n",
       "          0.04771444,  0.04218009],\n",
       "        [ 0.03158773,  0.04036883, -0.03880373,  0.03595343,\n",
       "          0.02330009,  0.03374124, -0.03428835, -0.00737494,\n",
       "         -0.03928646,  0.02636406],\n",
       "        [ 0.01994604, -0.03271912, -0.0051785 ,  0.04103574,\n",
       "          0.04504294, -0.04216184, -0.00524416,  0.00609523,\n",
       "         -0.04153896, -0.0454321 ]],\n",
       "\n",
       "       [[ 0.02587384,  0.02116295,  0.01088617, -0.03592562,\n",
       "         -0.04042912, -0.04580135,  0.03650352, -0.04325303,\n",
       "         -0.00167348,  0.03055171],\n",
       "        [ 0.02587384,  0.02116295,  0.01088617, -0.03592562,\n",
       "         -0.04042912, -0.04580135,  0.03650352, -0.04325303,\n",
       "         -0.00167348,  0.03055171],\n",
       "        [ 0.02587384,  0.02116295,  0.01088617, -0.03592562,\n",
       "         -0.04042912, -0.04580135,  0.03650352, -0.04325303,\n",
       "         -0.00167348,  0.03055171],\n",
       "        [ 0.02587384,  0.02116295,  0.01088617, -0.03592562,\n",
       "         -0.04042912, -0.04580135,  0.03650352, -0.04325303,\n",
       "         -0.00167348,  0.03055171],\n",
       "        [ 0.02768998, -0.02349108,  0.04229246,  0.00492311,\n",
       "         -0.03755457, -0.03238316, -0.03674327, -0.01608785,\n",
       "         -0.04714143, -0.03785962],\n",
       "        [ 0.02758181, -0.01445959,  0.02650595, -0.01914821,\n",
       "         -0.04748526,  0.02436558,  0.03976721, -0.03083826,\n",
       "          0.04830713,  0.01815656],\n",
       "        [ 0.03783125, -0.0026068 , -0.00597633, -0.01356202,\n",
       "          0.00708604,  0.01098356,  0.04526397, -0.0442712 ,\n",
       "         -0.04593588, -0.03835028],\n",
       "        [-0.01480814,  0.01758109,  0.04029259, -0.01644226,\n",
       "          0.02230424, -0.00349091,  0.02349803,  0.02687972,\n",
       "          0.02422782,  0.02321294]]], dtype=float32)"
      ]
     },
     "execution_count": 28,
     "metadata": {},
     "output_type": "execute_result"
    }
   ],
   "source": [
    "model.predict(embedded_docs)"
   ]
  },
  {
   "cell_type": "code",
   "execution_count": 31,
   "metadata": {},
   "outputs": [
    {
     "name": "stdout",
     "output_type": "stream",
     "text": [
      "1/1 [==============================] - 0s 65ms/step\n"
     ]
    },
    {
     "data": {
      "text/plain": [
       "array([[ 0.02587384,  0.02116295,  0.01088617, -0.03592562, -0.04042912,\n",
       "        -0.04580135,  0.03650352, -0.04325303, -0.00167348,  0.03055171],\n",
       "       [ 0.02587384,  0.02116295,  0.01088617, -0.03592562, -0.04042912,\n",
       "        -0.04580135,  0.03650352, -0.04325303, -0.00167348,  0.03055171],\n",
       "       [ 0.02587384,  0.02116295,  0.01088617, -0.03592562, -0.04042912,\n",
       "        -0.04580135,  0.03650352, -0.04325303, -0.00167348,  0.03055171],\n",
       "       [ 0.02587384,  0.02116295,  0.01088617, -0.03592562, -0.04042912,\n",
       "        -0.04580135,  0.03650352, -0.04325303, -0.00167348,  0.03055171],\n",
       "       [-0.00954735, -0.04742479, -0.01982504, -0.01921876,  0.02144418,\n",
       "        -0.02219873, -0.04645871, -0.04861375, -0.04916892, -0.03659917],\n",
       "       [ 0.02640999, -0.04857944,  0.04570656, -0.03586842, -0.03588607,\n",
       "         0.01649096, -0.00193025, -0.02198167, -0.02962157,  0.01996535],\n",
       "       [ 0.03158773,  0.04036883, -0.03880373,  0.03595343,  0.02330009,\n",
       "         0.03374124, -0.03428835, -0.00737494, -0.03928646,  0.02636406],\n",
       "       [-0.01246997, -0.0028476 ,  0.03274072, -0.00687869,  0.0473645 ,\n",
       "        -0.021826  , -0.0472499 , -0.0415128 ,  0.00266606, -0.04130652]],\n",
       "      dtype=float32)"
      ]
     },
     "execution_count": 31,
     "metadata": {},
     "output_type": "execute_result"
    }
   ],
   "source": [
    "model.predict(embedded_docs[0])"
   ]
  },
  {
   "cell_type": "code",
   "execution_count": null,
   "metadata": {},
   "outputs": [],
   "source": []
  },
  {
   "cell_type": "code",
   "execution_count": null,
   "metadata": {},
   "outputs": [],
   "source": []
  },
  {
   "cell_type": "code",
   "execution_count": null,
   "metadata": {},
   "outputs": [],
   "source": []
  },
  {
   "cell_type": "code",
   "execution_count": null,
   "metadata": {},
   "outputs": [],
   "source": []
  },
  {
   "cell_type": "code",
   "execution_count": null,
   "metadata": {},
   "outputs": [],
   "source": []
  },
  {
   "cell_type": "code",
   "execution_count": null,
   "metadata": {},
   "outputs": [],
   "source": []
  },
  {
   "cell_type": "code",
   "execution_count": null,
   "metadata": {},
   "outputs": [],
   "source": []
  },
  {
   "cell_type": "code",
   "execution_count": null,
   "metadata": {},
   "outputs": [],
   "source": []
  },
  {
   "cell_type": "code",
   "execution_count": null,
   "metadata": {},
   "outputs": [],
   "source": []
  },
  {
   "cell_type": "code",
   "execution_count": null,
   "metadata": {},
   "outputs": [],
   "source": []
  },
  {
   "cell_type": "code",
   "execution_count": null,
   "metadata": {},
   "outputs": [],
   "source": []
  },
  {
   "cell_type": "code",
   "execution_count": null,
   "metadata": {},
   "outputs": [],
   "source": []
  },
  {
   "cell_type": "code",
   "execution_count": null,
   "metadata": {},
   "outputs": [],
   "source": []
  },
  {
   "cell_type": "code",
   "execution_count": null,
   "metadata": {},
   "outputs": [],
   "source": []
  },
  {
   "cell_type": "code",
   "execution_count": null,
   "metadata": {},
   "outputs": [],
   "source": []
  },
  {
   "cell_type": "code",
   "execution_count": null,
   "metadata": {},
   "outputs": [],
   "source": []
  },
  {
   "cell_type": "code",
   "execution_count": null,
   "metadata": {},
   "outputs": [],
   "source": []
  },
  {
   "cell_type": "code",
   "execution_count": null,
   "metadata": {},
   "outputs": [],
   "source": []
  },
  {
   "cell_type": "code",
   "execution_count": null,
   "metadata": {},
   "outputs": [],
   "source": []
  },
  {
   "cell_type": "code",
   "execution_count": null,
   "metadata": {},
   "outputs": [],
   "source": []
  },
  {
   "cell_type": "code",
   "execution_count": null,
   "metadata": {},
   "outputs": [],
   "source": []
  },
  {
   "cell_type": "code",
   "execution_count": null,
   "metadata": {},
   "outputs": [],
   "source": []
  },
  {
   "cell_type": "code",
   "execution_count": null,
   "metadata": {},
   "outputs": [],
   "source": []
  },
  {
   "cell_type": "code",
   "execution_count": null,
   "metadata": {},
   "outputs": [],
   "source": []
  },
  {
   "cell_type": "code",
   "execution_count": null,
   "metadata": {},
   "outputs": [],
   "source": []
  },
  {
   "cell_type": "code",
   "execution_count": null,
   "metadata": {},
   "outputs": [],
   "source": []
  },
  {
   "cell_type": "code",
   "execution_count": null,
   "metadata": {},
   "outputs": [],
   "source": []
  },
  {
   "cell_type": "code",
   "execution_count": null,
   "metadata": {},
   "outputs": [],
   "source": []
  },
  {
   "cell_type": "code",
   "execution_count": null,
   "metadata": {},
   "outputs": [],
   "source": []
  },
  {
   "cell_type": "code",
   "execution_count": null,
   "metadata": {},
   "outputs": [],
   "source": []
  },
  {
   "cell_type": "code",
   "execution_count": null,
   "metadata": {},
   "outputs": [],
   "source": []
  },
  {
   "cell_type": "code",
   "execution_count": null,
   "metadata": {},
   "outputs": [],
   "source": []
  },
  {
   "cell_type": "code",
   "execution_count": null,
   "metadata": {},
   "outputs": [],
   "source": []
  },
  {
   "cell_type": "code",
   "execution_count": null,
   "metadata": {},
   "outputs": [],
   "source": []
  },
  {
   "cell_type": "code",
   "execution_count": null,
   "metadata": {},
   "outputs": [],
   "source": []
  },
  {
   "cell_type": "code",
   "execution_count": null,
   "metadata": {},
   "outputs": [],
   "source": []
  },
  {
   "cell_type": "code",
   "execution_count": null,
   "metadata": {},
   "outputs": [],
   "source": []
  },
  {
   "cell_type": "code",
   "execution_count": null,
   "metadata": {},
   "outputs": [],
   "source": []
  },
  {
   "cell_type": "code",
   "execution_count": null,
   "metadata": {},
   "outputs": [],
   "source": []
  },
  {
   "cell_type": "code",
   "execution_count": null,
   "metadata": {},
   "outputs": [],
   "source": []
  },
  {
   "cell_type": "code",
   "execution_count": null,
   "metadata": {},
   "outputs": [],
   "source": []
  },
  {
   "cell_type": "code",
   "execution_count": null,
   "metadata": {},
   "outputs": [],
   "source": []
  },
  {
   "cell_type": "code",
   "execution_count": null,
   "metadata": {},
   "outputs": [],
   "source": []
  },
  {
   "cell_type": "code",
   "execution_count": null,
   "metadata": {},
   "outputs": [],
   "source": []
  },
  {
   "cell_type": "code",
   "execution_count": null,
   "metadata": {},
   "outputs": [],
   "source": []
  },
  {
   "cell_type": "code",
   "execution_count": null,
   "metadata": {},
   "outputs": [],
   "source": []
  },
  {
   "cell_type": "code",
   "execution_count": null,
   "metadata": {},
   "outputs": [],
   "source": []
  },
  {
   "cell_type": "code",
   "execution_count": null,
   "metadata": {},
   "outputs": [],
   "source": []
  },
  {
   "cell_type": "code",
   "execution_count": null,
   "metadata": {},
   "outputs": [],
   "source": []
  },
  {
   "cell_type": "code",
   "execution_count": null,
   "metadata": {},
   "outputs": [],
   "source": []
  },
  {
   "cell_type": "code",
   "execution_count": null,
   "metadata": {},
   "outputs": [],
   "source": []
  },
  {
   "cell_type": "code",
   "execution_count": null,
   "metadata": {},
   "outputs": [],
   "source": []
  },
  {
   "cell_type": "code",
   "execution_count": null,
   "metadata": {},
   "outputs": [],
   "source": []
  },
  {
   "cell_type": "code",
   "execution_count": null,
   "metadata": {},
   "outputs": [],
   "source": []
  },
  {
   "cell_type": "code",
   "execution_count": null,
   "metadata": {},
   "outputs": [],
   "source": []
  },
  {
   "cell_type": "code",
   "execution_count": null,
   "metadata": {},
   "outputs": [],
   "source": []
  },
  {
   "cell_type": "code",
   "execution_count": null,
   "metadata": {},
   "outputs": [],
   "source": []
  },
  {
   "cell_type": "code",
   "execution_count": null,
   "metadata": {},
   "outputs": [],
   "source": []
  },
  {
   "cell_type": "code",
   "execution_count": null,
   "metadata": {},
   "outputs": [],
   "source": []
  },
  {
   "cell_type": "code",
   "execution_count": null,
   "metadata": {},
   "outputs": [],
   "source": []
  },
  {
   "cell_type": "code",
   "execution_count": null,
   "metadata": {},
   "outputs": [],
   "source": []
  },
  {
   "cell_type": "code",
   "execution_count": null,
   "metadata": {},
   "outputs": [],
   "source": []
  },
  {
   "cell_type": "code",
   "execution_count": null,
   "metadata": {},
   "outputs": [],
   "source": []
  },
  {
   "cell_type": "code",
   "execution_count": null,
   "metadata": {},
   "outputs": [],
   "source": []
  },
  {
   "cell_type": "code",
   "execution_count": null,
   "metadata": {},
   "outputs": [],
   "source": []
  },
  {
   "cell_type": "code",
   "execution_count": null,
   "metadata": {},
   "outputs": [],
   "source": []
  },
  {
   "cell_type": "code",
   "execution_count": null,
   "metadata": {},
   "outputs": [],
   "source": []
  }
 ],
 "metadata": {
  "kernelspec": {
   "display_name": "Python 3",
   "language": "python",
   "name": "python3"
  },
  "language_info": {
   "codemirror_mode": {
    "name": "ipython",
    "version": 3
   },
   "file_extension": ".py",
   "mimetype": "text/x-python",
   "name": "python",
   "nbconvert_exporter": "python",
   "pygments_lexer": "ipython3",
   "version": "3.11.0"
  }
 },
 "nbformat": 4,
 "nbformat_minor": 2
}
