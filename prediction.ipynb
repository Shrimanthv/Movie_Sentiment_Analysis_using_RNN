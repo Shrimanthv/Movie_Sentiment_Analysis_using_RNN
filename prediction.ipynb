{
 "cells": [
  {
   "cell_type": "code",
   "execution_count": 1,
   "metadata": {},
   "outputs": [],
   "source": [
    "# Step 1: Import Libraries and Load the Model\n",
    "import numpy as np\n",
    "import tensorflow as tf\n",
    "from tensorflow.keras.datasets import imdb\n",
    "from tensorflow.keras.preprocessing import sequence\n",
    "from tensorflow.keras.models import load_model"
   ]
  },
  {
   "cell_type": "code",
   "execution_count": 2,
   "metadata": {},
   "outputs": [],
   "source": [
    "\n",
    "# Load the IMDB dataset word index\n",
    "word_index = imdb.get_word_index()\n",
    "reverse_word_index = {value: key for key, value in word_index.items()}"
   ]
  },
  {
   "cell_type": "code",
   "execution_count": 3,
   "metadata": {},
   "outputs": [
    {
     "name": "stderr",
     "output_type": "stream",
     "text": [
      "WARNING:absl:Compiled the loaded model, but the compiled metrics have yet to be built. `model.compile_metrics` will be empty until you train or evaluate the model.\n"
     ]
    },
    {
     "data": {
      "text/html": [
       "<pre style=\"white-space:pre;overflow-x:auto;line-height:normal;font-family:Menlo,'DejaVu Sans Mono',consolas,'Courier New',monospace\"><span style=\"font-weight: bold\">Model: \"sequential\"</span>\n",
       "</pre>\n"
      ],
      "text/plain": [
       "\u001b[1mModel: \"sequential\"\u001b[0m\n"
      ]
     },
     "metadata": {},
     "output_type": "display_data"
    },
    {
     "data": {
      "text/html": [
       "<pre style=\"white-space:pre;overflow-x:auto;line-height:normal;font-family:Menlo,'DejaVu Sans Mono',consolas,'Courier New',monospace\">┏━━━━━━━━━━━━━━━━━━━━━━━━━━━━━━━━━┳━━━━━━━━━━━━━━━━━━━━━━━━┳━━━━━━━━━━━━━━━┓\n",
       "┃<span style=\"font-weight: bold\"> Layer (type)                    </span>┃<span style=\"font-weight: bold\"> Output Shape           </span>┃<span style=\"font-weight: bold\">       Param # </span>┃\n",
       "┡━━━━━━━━━━━━━━━━━━━━━━━━━━━━━━━━━╇━━━━━━━━━━━━━━━━━━━━━━━━╇━━━━━━━━━━━━━━━┩\n",
       "│ embedding (<span style=\"color: #0087ff; text-decoration-color: #0087ff\">Embedding</span>)           │ (<span style=\"color: #00af00; text-decoration-color: #00af00\">32</span>, <span style=\"color: #00af00; text-decoration-color: #00af00\">500</span>, <span style=\"color: #00af00; text-decoration-color: #00af00\">128</span>)         │     <span style=\"color: #00af00; text-decoration-color: #00af00\">1,280,000</span> │\n",
       "├─────────────────────────────────┼────────────────────────┼───────────────┤\n",
       "│ simple_rnn (<span style=\"color: #0087ff; text-decoration-color: #0087ff\">SimpleRNN</span>)          │ (<span style=\"color: #00af00; text-decoration-color: #00af00\">32</span>, <span style=\"color: #00af00; text-decoration-color: #00af00\">128</span>)              │        <span style=\"color: #00af00; text-decoration-color: #00af00\">32,896</span> │\n",
       "├─────────────────────────────────┼────────────────────────┼───────────────┤\n",
       "│ dense (<span style=\"color: #0087ff; text-decoration-color: #0087ff\">Dense</span>)                   │ (<span style=\"color: #00af00; text-decoration-color: #00af00\">32</span>, <span style=\"color: #00af00; text-decoration-color: #00af00\">1</span>)                │           <span style=\"color: #00af00; text-decoration-color: #00af00\">129</span> │\n",
       "└─────────────────────────────────┴────────────────────────┴───────────────┘\n",
       "</pre>\n"
      ],
      "text/plain": [
       "┏━━━━━━━━━━━━━━━━━━━━━━━━━━━━━━━━━┳━━━━━━━━━━━━━━━━━━━━━━━━┳━━━━━━━━━━━━━━━┓\n",
       "┃\u001b[1m \u001b[0m\u001b[1mLayer (type)                   \u001b[0m\u001b[1m \u001b[0m┃\u001b[1m \u001b[0m\u001b[1mOutput Shape          \u001b[0m\u001b[1m \u001b[0m┃\u001b[1m \u001b[0m\u001b[1m      Param #\u001b[0m\u001b[1m \u001b[0m┃\n",
       "┡━━━━━━━━━━━━━━━━━━━━━━━━━━━━━━━━━╇━━━━━━━━━━━━━━━━━━━━━━━━╇━━━━━━━━━━━━━━━┩\n",
       "│ embedding (\u001b[38;5;33mEmbedding\u001b[0m)           │ (\u001b[38;5;34m32\u001b[0m, \u001b[38;5;34m500\u001b[0m, \u001b[38;5;34m128\u001b[0m)         │     \u001b[38;5;34m1,280,000\u001b[0m │\n",
       "├─────────────────────────────────┼────────────────────────┼───────────────┤\n",
       "│ simple_rnn (\u001b[38;5;33mSimpleRNN\u001b[0m)          │ (\u001b[38;5;34m32\u001b[0m, \u001b[38;5;34m128\u001b[0m)              │        \u001b[38;5;34m32,896\u001b[0m │\n",
       "├─────────────────────────────────┼────────────────────────┼───────────────┤\n",
       "│ dense (\u001b[38;5;33mDense\u001b[0m)                   │ (\u001b[38;5;34m32\u001b[0m, \u001b[38;5;34m1\u001b[0m)                │           \u001b[38;5;34m129\u001b[0m │\n",
       "└─────────────────────────────────┴────────────────────────┴───────────────┘\n"
      ]
     },
     "metadata": {},
     "output_type": "display_data"
    },
    {
     "data": {
      "text/html": [
       "<pre style=\"white-space:pre;overflow-x:auto;line-height:normal;font-family:Menlo,'DejaVu Sans Mono',consolas,'Courier New',monospace\"><span style=\"font-weight: bold\"> Total params: </span><span style=\"color: #00af00; text-decoration-color: #00af00\">1,313,027</span> (5.01 MB)\n",
       "</pre>\n"
      ],
      "text/plain": [
       "\u001b[1m Total params: \u001b[0m\u001b[38;5;34m1,313,027\u001b[0m (5.01 MB)\n"
      ]
     },
     "metadata": {},
     "output_type": "display_data"
    },
    {
     "data": {
      "text/html": [
       "<pre style=\"white-space:pre;overflow-x:auto;line-height:normal;font-family:Menlo,'DejaVu Sans Mono',consolas,'Courier New',monospace\"><span style=\"font-weight: bold\"> Trainable params: </span><span style=\"color: #00af00; text-decoration-color: #00af00\">1,313,025</span> (5.01 MB)\n",
       "</pre>\n"
      ],
      "text/plain": [
       "\u001b[1m Trainable params: \u001b[0m\u001b[38;5;34m1,313,025\u001b[0m (5.01 MB)\n"
      ]
     },
     "metadata": {},
     "output_type": "display_data"
    },
    {
     "data": {
      "text/html": [
       "<pre style=\"white-space:pre;overflow-x:auto;line-height:normal;font-family:Menlo,'DejaVu Sans Mono',consolas,'Courier New',monospace\"><span style=\"font-weight: bold\"> Non-trainable params: </span><span style=\"color: #00af00; text-decoration-color: #00af00\">0</span> (0.00 B)\n",
       "</pre>\n"
      ],
      "text/plain": [
       "\u001b[1m Non-trainable params: \u001b[0m\u001b[38;5;34m0\u001b[0m (0.00 B)\n"
      ]
     },
     "metadata": {},
     "output_type": "display_data"
    },
    {
     "data": {
      "text/html": [
       "<pre style=\"white-space:pre;overflow-x:auto;line-height:normal;font-family:Menlo,'DejaVu Sans Mono',consolas,'Courier New',monospace\"><span style=\"font-weight: bold\"> Optimizer params: </span><span style=\"color: #00af00; text-decoration-color: #00af00\">2</span> (12.00 B)\n",
       "</pre>\n"
      ],
      "text/plain": [
       "\u001b[1m Optimizer params: \u001b[0m\u001b[38;5;34m2\u001b[0m (12.00 B)\n"
      ]
     },
     "metadata": {},
     "output_type": "display_data"
    }
   ],
   "source": [
    "# Load the pre-trained model with ReLU activation\n",
    "model = load_model('Simple_RNN_IMDB.h5')\n",
    "model.summary()"
   ]
  },
  {
   "cell_type": "code",
   "execution_count": 4,
   "metadata": {},
   "outputs": [
    {
     "data": {
      "text/plain": [
       "[array([[ 0.24326774, -0.36838475, -0.25111604, ..., -0.39949092,\n",
       "          0.4677399 ,  0.49997663],\n",
       "        [-0.02738957,  0.02556976,  0.0672368 , ..., -0.0010895 ,\n",
       "          0.02932275, -0.02065153],\n",
       "        [-0.01538545, -0.04735079, -0.05139684, ...,  0.03257494,\n",
       "          0.13046479,  0.04306362],\n",
       "        ...,\n",
       "        [-0.02123472,  0.02799268, -0.01587131, ..., -0.00994593,\n",
       "         -0.00093619,  0.00071476],\n",
       "        [ 0.08784012,  0.01985862,  0.01186791, ..., -0.0589935 ,\n",
       "          0.11782144, -0.0036345 ],\n",
       "        [ 0.08185904,  0.04349348,  0.046638  , ..., -0.05987761,\n",
       "          0.01514728,  0.01795864]], dtype=float32),\n",
       " array([[-0.03797358,  0.14213935, -0.10236018, ..., -0.15867686,\n",
       "          0.03522146, -0.03544052],\n",
       "        [ 0.1918623 ,  0.02480524,  0.01814248, ..., -0.02579246,\n",
       "         -0.06224399, -0.16020319],\n",
       "        [ 0.03302902,  0.01795608, -0.07113229, ..., -0.09035843,\n",
       "          0.04532569,  0.11582971],\n",
       "        ...,\n",
       "        [-0.08771658,  0.10081303,  0.0516725 , ...,  0.00791475,\n",
       "          0.12806073,  0.06869683],\n",
       "        [-0.17243911,  0.02948095, -0.1237699 , ..., -0.09867363,\n",
       "          0.07973657, -0.10097088],\n",
       "        [-0.15858656, -0.1112722 ,  0.14541608, ...,  0.08050077,\n",
       "         -0.15718396, -0.08051557]], dtype=float32),\n",
       " array([[-0.19148101, -0.20796439,  0.06057863, ..., -0.16174158,\n",
       "          0.04486372, -0.09295013],\n",
       "        [-0.01365581, -0.19338775, -0.07657167, ..., -0.1856775 ,\n",
       "         -0.05887818,  0.02376951],\n",
       "        [-0.03919285, -0.14926729,  0.04598957, ...,  0.00555184,\n",
       "          0.07529733, -0.0747684 ],\n",
       "        ...,\n",
       "        [ 0.11135413,  0.05190904, -0.12291395, ...,  0.05961115,\n",
       "          0.03781425,  0.03635113],\n",
       "        [ 0.0375445 , -0.01762868,  0.03974495, ..., -0.04745837,\n",
       "         -0.08187012,  0.26588115],\n",
       "        [-0.07034639, -0.06940813, -0.08653929, ..., -0.07553342,\n",
       "          0.0167492 , -0.1458768 ]], dtype=float32),\n",
       " array([ 0.00443883, -0.01679834, -0.00465974, -0.03416953, -0.02503513,\n",
       "        -0.00099059, -0.01724542,  0.01409839, -0.0184451 , -0.01126834,\n",
       "        -0.00474854, -0.00751072, -0.03958678,  0.00072428, -0.0226453 ,\n",
       "        -0.00617744, -0.00094638, -0.02301861, -0.02237903, -0.01736126,\n",
       "        -0.00444068, -0.00384057, -0.01091393,  0.00580976, -0.03209059,\n",
       "        -0.0198439 , -0.01649474, -0.03757824,  0.04385334,  0.0330769 ,\n",
       "        -0.02768696,  0.00517123,  0.00739741, -0.00744094, -0.01537438,\n",
       "        -0.00117803, -0.00446551,  0.05794217, -0.03420377, -0.03959069,\n",
       "        -0.01241316, -0.01363862,  0.00577613,  0.01170472, -0.03179481,\n",
       "        -0.01119155, -0.00407637, -0.00527   ,  0.00964614, -0.03323931,\n",
       "         0.0749298 , -0.02029656, -0.01699627,  0.00671454, -0.03569814,\n",
       "        -0.01909552,  0.00258274,  0.05277036, -0.01258962, -0.00652655,\n",
       "         0.0028515 , -0.03390205, -0.01541008, -0.02212229,  0.02095342,\n",
       "        -0.00594375, -0.00473015, -0.00656526,  0.00634714, -0.0232995 ,\n",
       "        -0.01090642, -0.00941098, -0.03083971,  0.00821071,  0.00210821,\n",
       "        -0.0374505 ,  0.0152847 , -0.04239907, -0.02335022, -0.00203566,\n",
       "        -0.00286314, -0.00306004, -0.01089609,  0.01105119, -0.00494102,\n",
       "        -0.0125759 ,  0.00379181, -0.01778605,  0.00459455, -0.05851377,\n",
       "        -0.01743514, -0.00063978,  0.04260749,  0.0117293 , -0.01084927,\n",
       "         0.00697248, -0.01794241,  0.01988725, -0.02611635,  0.01741004,\n",
       "         0.00566572, -0.0141156 , -0.01578316, -0.01411357,  0.0014841 ,\n",
       "        -0.00343824, -0.02380702,  0.00391297, -0.02102804, -0.02756689,\n",
       "         0.00213629, -0.00016178,  0.0236815 ,  0.00576037,  0.0399944 ,\n",
       "        -0.00058954, -0.00590269, -0.02437531,  0.00666604, -0.01171975,\n",
       "        -0.00674657, -0.00423751, -0.01210177,  0.016285  , -0.02918171,\n",
       "        -0.01326841,  0.0115029 , -0.0432393 ], dtype=float32),\n",
       " array([[-0.07681953],\n",
       "        [ 0.06808275],\n",
       "        [-0.08972938],\n",
       "        [-0.10463987],\n",
       "        [-0.19045946],\n",
       "        [ 0.21870805],\n",
       "        [ 0.1554555 ],\n",
       "        [ 0.07424187],\n",
       "        [ 0.17342359],\n",
       "        [ 0.15715666],\n",
       "        [ 0.01953151],\n",
       "        [-0.18642639],\n",
       "        [ 0.02363368],\n",
       "        [ 0.03425272],\n",
       "        [-0.03148016],\n",
       "        [-0.21645299],\n",
       "        [-0.35575688],\n",
       "        [-0.06489132],\n",
       "        [-0.15978453],\n",
       "        [ 0.17712647],\n",
       "        [-0.12407815],\n",
       "        [-0.05375408],\n",
       "        [ 0.2635388 ],\n",
       "        [-0.04152565],\n",
       "        [-0.02685386],\n",
       "        [ 0.17505772],\n",
       "        [ 0.1335855 ],\n",
       "        [-0.01773035],\n",
       "        [ 0.20827469],\n",
       "        [ 0.1480435 ],\n",
       "        [-0.10772426],\n",
       "        [-0.14672412],\n",
       "        [-0.12291067],\n",
       "        [-0.11224186],\n",
       "        [ 0.2666506 ],\n",
       "        [ 0.06923562],\n",
       "        [ 0.09945321],\n",
       "        [-0.12687783],\n",
       "        [-0.05891016],\n",
       "        [-0.06767921],\n",
       "        [-0.01822511],\n",
       "        [-0.11244088],\n",
       "        [ 0.28199703],\n",
       "        [-0.46400338],\n",
       "        [-0.07353316],\n",
       "        [-0.27764168],\n",
       "        [-0.08150318],\n",
       "        [ 0.16995814],\n",
       "        [-0.07224549],\n",
       "        [-0.1001723 ],\n",
       "        [ 0.23652185],\n",
       "        [-0.08394292],\n",
       "        [-0.2058894 ],\n",
       "        [-0.2465802 ],\n",
       "        [ 0.12439188],\n",
       "        [ 0.02605098],\n",
       "        [-0.39528883],\n",
       "        [ 0.03399439],\n",
       "        [-0.04896381],\n",
       "        [ 0.15996468],\n",
       "        [-0.06250843],\n",
       "        [-0.26448047],\n",
       "        [-0.1554993 ],\n",
       "        [ 0.09121514],\n",
       "        [-0.26862603],\n",
       "        [-0.04927427],\n",
       "        [ 0.20426114],\n",
       "        [ 0.22296628],\n",
       "        [ 0.02110829],\n",
       "        [ 0.08756302],\n",
       "        [ 0.17410123],\n",
       "        [ 0.23559101],\n",
       "        [ 0.02537615],\n",
       "        [ 0.18103725],\n",
       "        [-0.03086405],\n",
       "        [ 0.106538  ],\n",
       "        [ 0.11888091],\n",
       "        [-0.06559329],\n",
       "        [-0.09460664],\n",
       "        [-0.21432276],\n",
       "        [-0.06357303],\n",
       "        [-0.04376088],\n",
       "        [ 0.12144799],\n",
       "        [ 0.20094784],\n",
       "        [ 0.01991128],\n",
       "        [ 0.04801554],\n",
       "        [-0.1740932 ],\n",
       "        [-0.20698105],\n",
       "        [-0.07528093],\n",
       "        [ 0.09870209],\n",
       "        [ 0.05365528],\n",
       "        [-0.3636435 ],\n",
       "        [-0.29780447],\n",
       "        [-0.16861866],\n",
       "        [-0.02816363],\n",
       "        [-0.187037  ],\n",
       "        [-0.03892996],\n",
       "        [ 0.38742092],\n",
       "        [ 0.18928224],\n",
       "        [-0.16625655],\n",
       "        [-0.19707648],\n",
       "        [ 0.04718701],\n",
       "        [-0.22730944],\n",
       "        [-0.03626571],\n",
       "        [-0.27061945],\n",
       "        [-0.2801424 ],\n",
       "        [-0.13905266],\n",
       "        [ 0.12656659],\n",
       "        [-0.01296784],\n",
       "        [ 0.22681816],\n",
       "        [ 0.16669662],\n",
       "        [-0.14612113],\n",
       "        [ 0.17199834],\n",
       "        [ 0.0366466 ],\n",
       "        [ 0.21840243],\n",
       "        [ 0.11446092],\n",
       "        [-0.05408649],\n",
       "        [-0.14203319],\n",
       "        [-0.1892218 ],\n",
       "        [-0.1459286 ],\n",
       "        [ 0.03926301],\n",
       "        [-0.20558701],\n",
       "        [ 0.20302601],\n",
       "        [-0.26045492],\n",
       "        [ 0.08384055],\n",
       "        [ 0.19970283],\n",
       "        [-0.06049585],\n",
       "        [ 0.17420033]], dtype=float32),\n",
       " array([0.11022028], dtype=float32)]"
      ]
     },
     "execution_count": 4,
     "metadata": {},
     "output_type": "execute_result"
    }
   ],
   "source": [
    "model.get_weights()"
   ]
  },
  {
   "cell_type": "code",
   "execution_count": 5,
   "metadata": {},
   "outputs": [],
   "source": [
    "# Step 2: Helper Functions\n",
    "# Function to decode reviews\n",
    "def decode_review(encoded_review):\n",
    "    return ' '.join([reverse_word_index.get(i - 3, '?') for i in encoded_review])\n",
    "\n",
    "# Function to preprocess user input\n",
    "def preprocess_text(text):\n",
    "    words = text.lower().split()\n",
    "    encoded_review = [word_index.get(word, 2) + 3 for word in words]\n",
    "    padded_review = sequence.pad_sequences([encoded_review], maxlen=500)\n",
    "    return padded_review"
   ]
  },
  {
   "cell_type": "code",
   "execution_count": 6,
   "metadata": {},
   "outputs": [],
   "source": [
    "### Prediction  function\n",
    "\n",
    "def predict_sentiment(review):\n",
    "    preprocessed_input=preprocess_text(review)\n",
    "\n",
    "    prediction=model.predict(preprocessed_input)\n",
    "\n",
    "    sentiment = 'Positive' if prediction[0][0] > 0.5 else 'Negative'\n",
    "    \n",
    "    return sentiment, prediction[0][0]\n",
    "\n"
   ]
  },
  {
   "cell_type": "code",
   "execution_count": 7,
   "metadata": {},
   "outputs": [
    {
     "name": "stdout",
     "output_type": "stream",
     "text": [
      "\u001b[1m1/1\u001b[0m \u001b[32m━━━━━━━━━━━━━━━━━━━━\u001b[0m\u001b[37m\u001b[0m \u001b[1m0s\u001b[0m 180ms/step\n",
      "Review: This movie was fantastic! The acting was great and the plot was thrilling.\n",
      "Sentiment: Positive\n",
      "Prediction Score: 0.8690750598907471\n"
     ]
    }
   ],
   "source": [
    "# Step 4: User Input and Prediction\n",
    "# Example review for prediction\n",
    "example_review = \"This movie was fantastic! The acting was great and the plot was thrilling.\"\n",
    "\n",
    "sentiment,score=predict_sentiment(example_review)\n",
    "\n",
    "print(f'Review: {example_review}')\n",
    "print(f'Sentiment: {sentiment}')\n",
    "print(f'Prediction Score: {score}')"
   ]
  },
  {
   "cell_type": "code",
   "execution_count": null,
   "metadata": {},
   "outputs": [],
   "source": []
  },
  {
   "cell_type": "code",
   "execution_count": null,
   "metadata": {},
   "outputs": [],
   "source": []
  },
  {
   "cell_type": "code",
   "execution_count": null,
   "metadata": {},
   "outputs": [],
   "source": []
  },
  {
   "cell_type": "code",
   "execution_count": null,
   "metadata": {},
   "outputs": [],
   "source": []
  },
  {
   "cell_type": "code",
   "execution_count": null,
   "metadata": {},
   "outputs": [],
   "source": []
  },
  {
   "cell_type": "code",
   "execution_count": null,
   "metadata": {},
   "outputs": [],
   "source": []
  },
  {
   "cell_type": "code",
   "execution_count": null,
   "metadata": {},
   "outputs": [],
   "source": []
  },
  {
   "cell_type": "code",
   "execution_count": null,
   "metadata": {},
   "outputs": [],
   "source": []
  },
  {
   "cell_type": "code",
   "execution_count": null,
   "metadata": {},
   "outputs": [],
   "source": []
  },
  {
   "cell_type": "code",
   "execution_count": null,
   "metadata": {},
   "outputs": [],
   "source": []
  },
  {
   "cell_type": "code",
   "execution_count": null,
   "metadata": {},
   "outputs": [],
   "source": []
  },
  {
   "cell_type": "code",
   "execution_count": null,
   "metadata": {},
   "outputs": [],
   "source": []
  },
  {
   "cell_type": "code",
   "execution_count": null,
   "metadata": {},
   "outputs": [],
   "source": []
  },
  {
   "cell_type": "code",
   "execution_count": null,
   "metadata": {},
   "outputs": [],
   "source": []
  },
  {
   "cell_type": "code",
   "execution_count": null,
   "metadata": {},
   "outputs": [],
   "source": []
  },
  {
   "cell_type": "code",
   "execution_count": null,
   "metadata": {},
   "outputs": [],
   "source": []
  },
  {
   "cell_type": "code",
   "execution_count": null,
   "metadata": {},
   "outputs": [],
   "source": []
  },
  {
   "cell_type": "code",
   "execution_count": null,
   "metadata": {},
   "outputs": [],
   "source": []
  },
  {
   "cell_type": "code",
   "execution_count": null,
   "metadata": {},
   "outputs": [],
   "source": []
  },
  {
   "cell_type": "code",
   "execution_count": null,
   "metadata": {},
   "outputs": [],
   "source": []
  },
  {
   "cell_type": "code",
   "execution_count": null,
   "metadata": {},
   "outputs": [],
   "source": []
  },
  {
   "cell_type": "code",
   "execution_count": null,
   "metadata": {},
   "outputs": [],
   "source": []
  },
  {
   "cell_type": "code",
   "execution_count": null,
   "metadata": {},
   "outputs": [],
   "source": []
  }
 ],
 "metadata": {
  "kernelspec": {
   "display_name": "Python 3",
   "language": "python",
   "name": "python3"
  },
  "language_info": {
   "codemirror_mode": {
    "name": "ipython",
    "version": 3
   },
   "file_extension": ".py",
   "mimetype": "text/x-python",
   "name": "python",
   "nbconvert_exporter": "python",
   "pygments_lexer": "ipython3",
   "version": "3.11.0"
  }
 },
 "nbformat": 4,
 "nbformat_minor": 2
}
