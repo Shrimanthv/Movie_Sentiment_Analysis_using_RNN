{
 "cells": [
  {
   "cell_type": "code",
   "execution_count": 15,
   "metadata": {},
   "outputs": [],
   "source": [
    "# Step 1: Import Libraries and Load the Model\n",
    "import numpy as np\n",
    "import tensorflow as tf\n",
    "from tensorflow.keras.datasets import imdb\n",
    "from tensorflow.keras.preprocessing import sequence\n",
    "from tensorflow.keras.models import load_model"
   ]
  },
  {
   "cell_type": "code",
   "execution_count": 16,
   "metadata": {},
   "outputs": [],
   "source": [
    "\n",
    "# Load the IMDB dataset word index\n",
    "word_index = imdb.get_word_index()\n",
    "reverse_word_index = {value: key for key, value in word_index.items()}"
   ]
  },
  {
   "cell_type": "code",
   "execution_count": 17,
   "metadata": {},
   "outputs": [
    {
     "name": "stdout",
     "output_type": "stream",
     "text": [
      "Model: \"sequential_1\"\n",
      "_________________________________________________________________\n",
      " Layer (type)                Output Shape              Param #   \n",
      "=================================================================\n",
      " embedding_1 (Embedding)     (None, 500, 128)          1280000   \n",
      "                                                                 \n",
      " simple_rnn_1 (SimpleRNN)    (None, 128)               32896     \n",
      "                                                                 \n",
      " dense_1 (Dense)             (None, 1)                 129       \n",
      "                                                                 \n",
      "=================================================================\n",
      "Total params: 1313025 (5.01 MB)\n",
      "Trainable params: 1313025 (5.01 MB)\n",
      "Non-trainable params: 0 (0.00 Byte)\n",
      "_________________________________________________________________\n"
     ]
    }
   ],
   "source": [
    "# Load the pre-trained model with ReLU activation\n",
    "model = load_model('Simple_RNN_IMDB.h5')\n",
    "model.summary()"
   ]
  },
  {
   "cell_type": "code",
   "execution_count": 18,
   "metadata": {},
   "outputs": [
    {
     "data": {
      "text/plain": [
       "[array([[ 0.03596938, -0.01915991,  0.04301461, ...,  0.03569554,\n",
       "         -0.03803946,  0.01940985],\n",
       "        [-0.01461243,  0.02621392, -0.04140823, ..., -0.0120883 ,\n",
       "         -0.05785038,  0.05535842],\n",
       "        [ 0.01462834,  0.02600462,  0.0155509 , ...,  0.03969602,\n",
       "          0.04166183,  0.02461976],\n",
       "        ...,\n",
       "        [ 0.00047345,  0.01439735,  0.02826661, ..., -0.03657489,\n",
       "         -0.02949605,  0.0134934 ],\n",
       "        [-0.17569175, -0.07450833, -0.09343187, ..., -0.10164614,\n",
       "          0.12214641,  0.08699551],\n",
       "        [ 0.04755671, -0.03045288,  0.00799236, ...,  0.13473545,\n",
       "          0.01204734, -0.1474474 ]], dtype=float32),\n",
       " array([[-0.08650275, -0.17545278, -0.02957234, ...,  0.04138647,\n",
       "          0.01406839,  0.14721611],\n",
       "        [ 0.09618339,  0.13606884,  0.00179988, ...,  0.02974237,\n",
       "          0.09346145,  0.01435823],\n",
       "        [-0.05579793,  0.08637202, -0.15904713, ...,  0.1021284 ,\n",
       "         -0.07908615,  0.11531039],\n",
       "        ...,\n",
       "        [-0.14228007, -0.12285773, -0.00335338, ..., -0.1114837 ,\n",
       "          0.184535  ,  0.05893505],\n",
       "        [-0.01058194, -0.03454843, -0.12101708, ..., -0.10884   ,\n",
       "         -0.14039984,  0.13696574],\n",
       "        [-0.10009357, -0.03031969, -0.16072729, ...,  0.12552008,\n",
       "         -0.12373625, -0.13018966]], dtype=float32),\n",
       " array([[-0.15203267,  0.12748875, -0.18249509, ...,  0.08738267,\n",
       "          0.05477603,  0.48379922],\n",
       "        [-0.0363625 , -0.17419341,  0.04380446, ...,  0.10806936,\n",
       "          0.07670402, -0.10513961],\n",
       "        [-0.01287206, -0.00883661,  0.10268144, ...,  0.05479873,\n",
       "          0.12760523, -0.10203294],\n",
       "        ...,\n",
       "        [ 0.07353394,  0.01919287, -0.07726738, ..., -0.00118641,\n",
       "         -0.01208897,  0.25403434],\n",
       "        [ 0.11039075, -0.05186245,  0.04449398, ...,  0.10951327,\n",
       "          0.09426476, -0.08683071],\n",
       "        [ 0.00807651,  0.23448814,  0.02142648, ..., -0.06951716,\n",
       "          0.00778893,  0.0375538 ]], dtype=float32),\n",
       " array([-0.02251344,  0.01746076, -0.00400248, -0.00412694,  0.00764141,\n",
       "        -0.03094827, -0.00299543, -0.00183329, -0.01360558, -0.00328836,\n",
       "        -0.02712135, -0.00835992, -0.00776388, -0.01759623,  0.00436537,\n",
       "         0.00849856,  0.00207288, -0.00304937, -0.0098949 , -0.00267336,\n",
       "        -0.00716681, -0.0143187 ,  0.01668048, -0.00754083, -0.03421241,\n",
       "        -0.00157533, -0.03152748, -0.00584944, -0.00450759, -0.01505025,\n",
       "        -0.00504557, -0.02176275,  0.00646739, -0.00308527,  0.00899548,\n",
       "        -0.01303279, -0.03696215,  0.00293318,  0.00617903, -0.0104986 ,\n",
       "         0.0051892 , -0.03626192, -0.01122493, -0.02739826, -0.01596422,\n",
       "        -0.00600962, -0.01310217, -0.00900478, -0.05279071, -0.00488789,\n",
       "         0.0023965 , -0.00028591,  0.00902566,  0.009676  , -0.02220426,\n",
       "        -0.00293125, -0.02100798, -0.01759615,  0.02566776, -0.01086942,\n",
       "         0.00772139, -0.01545475,  0.0249448 , -0.00040931, -0.01207508,\n",
       "        -0.01407035, -0.02068668,  0.0083123 ,  0.02528146, -0.00832769,\n",
       "         0.02594668, -0.00070191,  0.01034242,  0.00880518,  0.00689871,\n",
       "        -0.00085816,  0.00056215, -0.00914153, -0.00647022,  0.01204724,\n",
       "        -0.00022202, -0.01340572, -0.02812233, -0.01560071, -0.0179357 ,\n",
       "         0.0076725 ,  0.00122517, -0.00542721, -0.00793549, -0.01988143,\n",
       "         0.00963248, -0.00213977, -0.00528463, -0.02173048, -0.00455667,\n",
       "        -0.0133637 , -0.02295292, -0.01543253,  0.00746895,  0.00567905,\n",
       "        -0.0040571 , -0.02097657, -0.02642156, -0.00071399,  0.00254263,\n",
       "         0.01658132, -0.00300033, -0.01039171, -0.00704397, -0.01555273,\n",
       "         0.00886018,  0.00675843,  0.00962865,  0.00511812,  0.01928478,\n",
       "        -0.00524869,  0.01851379, -0.00011375, -0.01276736, -0.0204686 ,\n",
       "        -0.01345978, -0.0132495 , -0.02782876, -0.0050601 , -0.0152872 ,\n",
       "        -0.00527332, -0.00412356, -0.011695  ], dtype=float32),\n",
       " array([[ 0.03803076],\n",
       "        [-0.11228319],\n",
       "        [-0.13243859],\n",
       "        [-0.13526338],\n",
       "        [ 0.18865848],\n",
       "        [ 0.9767588 ],\n",
       "        [-0.20468166],\n",
       "        [ 0.01966473],\n",
       "        [ 0.0332954 ],\n",
       "        [ 0.2049586 ],\n",
       "        [-0.15777048],\n",
       "        [ 0.1682666 ],\n",
       "        [-0.01602944],\n",
       "        [ 0.05546638],\n",
       "        [ 0.24520974],\n",
       "        [ 2.1184285 ],\n",
       "        [ 0.14389873],\n",
       "        [ 0.23563594],\n",
       "        [ 0.16682869],\n",
       "        [-0.10427611],\n",
       "        [-0.2712854 ],\n",
       "        [ 1.1807606 ],\n",
       "        [-0.1542361 ],\n",
       "        [ 0.1878681 ],\n",
       "        [ 0.07238941],\n",
       "        [ 0.15112035],\n",
       "        [-0.05776571],\n",
       "        [ 1.1477337 ],\n",
       "        [ 0.16804406],\n",
       "        [ 0.09297471],\n",
       "        [ 0.14126775],\n",
       "        [-0.00550327],\n",
       "        [-0.19665907],\n",
       "        [ 0.22490321],\n",
       "        [ 0.03836728],\n",
       "        [-0.01565551],\n",
       "        [ 0.3815348 ],\n",
       "        [ 0.20012493],\n",
       "        [ 0.14570759],\n",
       "        [ 0.1045711 ],\n",
       "        [ 0.23643374],\n",
       "        [-0.15834852],\n",
       "        [ 0.08684524],\n",
       "        [ 0.19509102],\n",
       "        [-0.0245628 ],\n",
       "        [ 0.08635543],\n",
       "        [-0.154396  ],\n",
       "        [-0.18325564],\n",
       "        [ 0.18075317],\n",
       "        [ 0.19251199],\n",
       "        [-0.05910229],\n",
       "        [-0.11137126],\n",
       "        [-0.00445651],\n",
       "        [ 0.17750888],\n",
       "        [ 0.15568812],\n",
       "        [-0.0797642 ],\n",
       "        [ 0.158755  ],\n",
       "        [ 0.24850616],\n",
       "        [ 0.14883094],\n",
       "        [-0.07901399],\n",
       "        [-0.0546374 ],\n",
       "        [ 0.12324927],\n",
       "        [ 0.16335033],\n",
       "        [-2.054331  ],\n",
       "        [-0.20597331],\n",
       "        [ 1.9404744 ],\n",
       "        [ 0.20610808],\n",
       "        [-0.19515333],\n",
       "        [ 0.10055218],\n",
       "        [ 0.16767782],\n",
       "        [ 0.19944456],\n",
       "        [-0.18834221],\n",
       "        [ 0.12619042],\n",
       "        [-0.00940886],\n",
       "        [ 0.02135155],\n",
       "        [ 0.01224213],\n",
       "        [ 0.19990891],\n",
       "        [ 0.07808828],\n",
       "        [ 0.17489545],\n",
       "        [-0.1822364 ],\n",
       "        [-0.10153998],\n",
       "        [-0.65452594],\n",
       "        [ 0.19347446],\n",
       "        [-2.5183744 ],\n",
       "        [-1.0052179 ],\n",
       "        [ 0.39525524],\n",
       "        [-0.10765548],\n",
       "        [ 0.16605781],\n",
       "        [-0.19705737],\n",
       "        [ 0.09147911],\n",
       "        [-0.17681165],\n",
       "        [-0.21675405],\n",
       "        [-1.560135  ],\n",
       "        [ 0.32476607],\n",
       "        [-0.13751146],\n",
       "        [-0.1348139 ],\n",
       "        [ 0.03590739],\n",
       "        [-1.4628915 ],\n",
       "        [ 0.20016745],\n",
       "        [-0.11769196],\n",
       "        [-0.3958178 ],\n",
       "        [ 0.1619425 ],\n",
       "        [-0.3649768 ],\n",
       "        [ 0.20173357],\n",
       "        [-0.57201385],\n",
       "        [ 0.21284355],\n",
       "        [-0.07982561],\n",
       "        [ 0.7442422 ],\n",
       "        [-0.06387792],\n",
       "        [ 0.23457514],\n",
       "        [ 0.48781577],\n",
       "        [-0.00509176],\n",
       "        [ 0.17518666],\n",
       "        [-0.2258102 ],\n",
       "        [ 0.04467479],\n",
       "        [-0.0740936 ],\n",
       "        [-0.00732717],\n",
       "        [-0.0179554 ],\n",
       "        [ 0.06064243],\n",
       "        [-0.8821939 ],\n",
       "        [-0.01795982],\n",
       "        [ 0.17339851],\n",
       "        [-1.2522379 ],\n",
       "        [ 0.12489892],\n",
       "        [-0.10325034],\n",
       "        [-0.04919388],\n",
       "        [ 0.05647418],\n",
       "        [-0.37203833]], dtype=float32),\n",
       " array([0.7065073], dtype=float32)]"
      ]
     },
     "execution_count": 18,
     "metadata": {},
     "output_type": "execute_result"
    }
   ],
   "source": [
    "model.get_weights()"
   ]
  },
  {
   "cell_type": "code",
   "execution_count": 19,
   "metadata": {},
   "outputs": [],
   "source": [
    "# Step 2: Helper Functions\n",
    "# Function to decode reviews\n",
    "def decode_review(encoded_review):\n",
    "    return ' '.join([reverse_word_index.get(i - 3, '?') for i in encoded_review])\n",
    "\n",
    "# Function to preprocess user input\n",
    "def preprocess_text(text):\n",
    "    words = text.lower().split()\n",
    "    encoded_review = [word_index.get(word, 2) + 3 for word in words]\n",
    "    padded_review = sequence.pad_sequences([encoded_review], maxlen=500)\n",
    "    return padded_review"
   ]
  },
  {
   "cell_type": "code",
   "execution_count": 20,
   "metadata": {},
   "outputs": [],
   "source": [
    "### Prediction  function\n",
    "\n",
    "def predict_sentiment(review):\n",
    "    preprocessed_input=preprocess_text(review)\n",
    "\n",
    "    prediction=model.predict(preprocessed_input)\n",
    "\n",
    "    sentiment = 'Positive' if prediction[0][0] > 0.5 else 'Negative'\n",
    "    \n",
    "    return sentiment, prediction[0][0]\n",
    "\n"
   ]
  },
  {
   "cell_type": "code",
   "execution_count": 21,
   "metadata": {},
   "outputs": [
    {
     "name": "stdout",
     "output_type": "stream",
     "text": [
      "1/1 [==============================] - 0s 146ms/step\n",
      "Review: This movie was fantastic! The acting was great and the plot was thrilling.\n",
      "Sentiment: Positive\n",
      "Prediction Score: 0.8569992780685425\n"
     ]
    }
   ],
   "source": [
    "# Step 4: User Input and Prediction\n",
    "# Example review for prediction\n",
    "example_review = \"This movie was fantastic! The acting was great and the plot was thrilling.\"\n",
    "\n",
    "sentiment,score=predict_sentiment(example_review)\n",
    "\n",
    "print(f'Review: {example_review}')\n",
    "print(f'Sentiment: {sentiment}')\n",
    "print(f'Prediction Score: {score}')"
   ]
  },
  {
   "cell_type": "code",
   "execution_count": null,
   "metadata": {},
   "outputs": [],
   "source": []
  },
  {
   "cell_type": "code",
   "execution_count": null,
   "metadata": {},
   "outputs": [],
   "source": []
  },
  {
   "cell_type": "code",
   "execution_count": null,
   "metadata": {},
   "outputs": [],
   "source": []
  },
  {
   "cell_type": "code",
   "execution_count": null,
   "metadata": {},
   "outputs": [],
   "source": []
  },
  {
   "cell_type": "code",
   "execution_count": null,
   "metadata": {},
   "outputs": [],
   "source": []
  },
  {
   "cell_type": "code",
   "execution_count": null,
   "metadata": {},
   "outputs": [],
   "source": []
  },
  {
   "cell_type": "code",
   "execution_count": null,
   "metadata": {},
   "outputs": [],
   "source": []
  },
  {
   "cell_type": "code",
   "execution_count": null,
   "metadata": {},
   "outputs": [],
   "source": []
  },
  {
   "cell_type": "code",
   "execution_count": null,
   "metadata": {},
   "outputs": [],
   "source": []
  },
  {
   "cell_type": "code",
   "execution_count": null,
   "metadata": {},
   "outputs": [],
   "source": []
  },
  {
   "cell_type": "code",
   "execution_count": null,
   "metadata": {},
   "outputs": [],
   "source": []
  },
  {
   "cell_type": "code",
   "execution_count": null,
   "metadata": {},
   "outputs": [],
   "source": []
  },
  {
   "cell_type": "code",
   "execution_count": null,
   "metadata": {},
   "outputs": [],
   "source": []
  },
  {
   "cell_type": "code",
   "execution_count": null,
   "metadata": {},
   "outputs": [],
   "source": []
  },
  {
   "cell_type": "code",
   "execution_count": null,
   "metadata": {},
   "outputs": [],
   "source": []
  },
  {
   "cell_type": "code",
   "execution_count": null,
   "metadata": {},
   "outputs": [],
   "source": []
  },
  {
   "cell_type": "code",
   "execution_count": null,
   "metadata": {},
   "outputs": [],
   "source": []
  },
  {
   "cell_type": "code",
   "execution_count": null,
   "metadata": {},
   "outputs": [],
   "source": []
  },
  {
   "cell_type": "code",
   "execution_count": null,
   "metadata": {},
   "outputs": [],
   "source": []
  },
  {
   "cell_type": "code",
   "execution_count": null,
   "metadata": {},
   "outputs": [],
   "source": []
  },
  {
   "cell_type": "code",
   "execution_count": null,
   "metadata": {},
   "outputs": [],
   "source": []
  },
  {
   "cell_type": "code",
   "execution_count": null,
   "metadata": {},
   "outputs": [],
   "source": []
  },
  {
   "cell_type": "code",
   "execution_count": null,
   "metadata": {},
   "outputs": [],
   "source": []
  }
 ],
 "metadata": {
  "kernelspec": {
   "display_name": "Python 3",
   "language": "python",
   "name": "python3"
  },
  "language_info": {
   "codemirror_mode": {
    "name": "ipython",
    "version": 3
   },
   "file_extension": ".py",
   "mimetype": "text/x-python",
   "name": "python",
   "nbconvert_exporter": "python",
   "pygments_lexer": "ipython3",
   "version": "3.11.0"
  }
 },
 "nbformat": 4,
 "nbformat_minor": 2
}
